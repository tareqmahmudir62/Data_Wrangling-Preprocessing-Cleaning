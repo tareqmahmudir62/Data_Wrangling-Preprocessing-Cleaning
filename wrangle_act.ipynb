{
 "cells": [
  {
   "cell_type": "markdown",
   "metadata": {
    "extensions": {
     "jupyter_dashboards": {
      "version": 1,
      "views": {
       "grid_default": {
        "col": 0,
        "height": 4,
        "hidden": false,
        "row": 0,
        "width": 4
       },
       "report_default": {
        "hidden": false
       }
      }
     }
    }
   },
   "source": [
    "# Project: Wrangling and Analyze Data"
   ]
  },
  {
   "cell_type": "code",
   "execution_count": 1,
   "metadata": {},
   "outputs": [],
   "source": [
    "import requests as r\n",
    "import pandas as pd\n",
    "import numpy as np\n",
    "import tweepy\n",
    "import urllib, json\n",
    "import os\n",
    "from PIL import Image\n",
    "from io import BytesIO\n",
    "import tweepy\n",
    "from tweepy import OAuthHandler\n",
    "import json\n",
    "from timeit import default_timer as timer\n",
    "import re\n",
    "import matplotlib.pyplot as plt\n",
    "import seaborn as sb"
   ]
  },
  {
   "cell_type": "markdown",
   "metadata": {},
   "source": [
    "## Data Gathering\n",
    "In the cell below, gather **all** three pieces of data for this project and load them in the notebook. **Note:** the methods required to gather each data are different.\n",
    "1. Directly download the WeRateDogs Twitter archive data (twitter_archive_enhanced.csv)"
   ]
  },
  {
   "cell_type": "code",
   "execution_count": 2,
   "metadata": {
    "extensions": {
     "jupyter_dashboards": {
      "version": 1,
      "views": {
       "grid_default": {
        "hidden": true
       },
       "report_default": {
        "hidden": true
       }
      }
     }
    }
   },
   "outputs": [],
   "source": [
    "df_1= pd.read_csv('twitter-archive-enhanced.csv')"
   ]
  },
  {
   "cell_type": "markdown",
   "metadata": {},
   "source": [
    "2. Use the Requests library to download the tweet image prediction (image_predictions.tsv)"
   ]
  },
  {
   "cell_type": "code",
   "execution_count": 3,
   "metadata": {},
   "outputs": [
    {
     "name": "stderr",
     "output_type": "stream",
     "text": [
      "C:\\Users\\ASUS\\anaconda3\\lib\\site-packages\\IPython\\core\\interactiveshell.py:3444: FutureWarning: In a future version of pandas all arguments of read_csv except for the argument 'filepath_or_buffer' will be keyword-only\n",
      "  exec(code_obj, self.user_global_ns, self.user_ns)\n"
     ]
    }
   ],
   "source": [
    "folder= 'image_prediction'\n",
    "if not os.path.exists (folder):\n",
    "    os.makedirs(folder)\n",
    "    \n",
    "url= 'https://d17h27t6h515a5.cloudfront.net/topher/2017/August/599fd2ad_image-predictions/image-predictions.tsv'\n",
    "response= r.get(url)\n",
    "with open ('image-predictions.tsv', 'wb') as file:\n",
    "    file.write(response.content)\n",
    "    \n",
    "df_2= pd.read_csv('image-predictions.tsv', '\\t')\n"
   ]
  },
  {
   "cell_type": "markdown",
   "metadata": {},
   "source": [
    "3. Use the Tweepy library to query additional data via the Twitter API (tweet_json.txt)"
   ]
  },
  {
   "cell_type": "code",
   "execution_count": 4,
   "metadata": {
    "scrolled": false
   },
   "outputs": [],
   "source": [
    "consumer_key = 'ReaVgydaEm5exW46DiALxP3r1'\n",
    "consumer_secret = 'Ytk0pqEbhnIXA6R5aod4KpPO4ISXJp8x1hHnLtqQq4Gcus0vcc'\n",
    "access_token = '150248066-rARUQEAEGugJ6vItNEghr2oBuMgRNJ5ByrW1thrJ'\n",
    "access_secret = 'buzWzhKx11nta87VDr3XZAjUx9t5Js7Il3WMR8kZ0hLFE'\n",
    "\n",
    "auth = tweepy.OAuthHandler(consumer_key, consumer_secret)\n",
    "auth.set_access_token(access_token, access_secret)\n",
    "api = tweepy.API(auth, wait_on_rate_limit=True)\n",
    "\n",
    "'''# NOTE TO STUDENT WITH MOBILE VERIFICATION ISSUES:\n",
    "# df_1 is a DataFrame with the twitter_archive_enhanced.csv file. You may have to\n",
    "# change line 17 to match the name of your DataFrame with twitter_archive_enhanced.csv\n",
    "# NOTE TO REVIEWER: this student had mobile verification issues so the following\n",
    "# Twitter API code was sent to this student from a Udacity instructor\n",
    "# Tweet IDs for which to gather additional data via Twitter's API\n",
    "tweet_ids = df_1.tweet_id.values\n",
    "len(tweet_ids)\n",
    "\n",
    "# Query Twitter's API for JSON data for each tweet ID in the Twitter archive\n",
    "count = 0\n",
    "fails_dict = {}\n",
    "start = timer()\n",
    "# Save each tweet's returned JSON as a new line in a .txt file\n",
    "with open('tweet_json.txt', 'w') as outfile:\n",
    "    # This loop will likely take 20-30 minutes to run because of Twitter's rate limit\n",
    "    for tweet_id in tweet_ids:\n",
    "        count += 1\n",
    "        print(str(count) + \": \" + str(tweet_id))\n",
    "        try:\n",
    "            tweet = api.get_status(tweet_id, tweet_mode='extended')\n",
    "            print(\"Success\")\n",
    "            json.dump(tweet._json, outfile)\n",
    "            outfile.write('\\n')\n",
    "            print (tweet_id, 'success')\n",
    "        except tweepy.TweepyException  as e:\n",
    "            print(\"Fail\")\n",
    "            fails_dict[tweet_id] = e\n",
    "            pass\n",
    "end = timer()\n",
    "print(end - start)\n",
    "print(fails_dict)\n",
    "'''\n",
    "extract_list = []\n",
    "for line in open('tweet_json.txt', 'r'):\n",
    "    data= json.loads(line)\n",
    "    extract_list.append({'twitter_id': data['id_str'],\n",
    "                         'favorite_count': data['favorite_count'],\n",
    "                         'retweet_count': data ['retweet_count']})\n",
    "    \n",
    "df_3= pd.DataFrame(extract_list, columns = ['twitter_id','retweet_count', 'favorite_count'])\n"
   ]
  },
  {
   "cell_type": "markdown",
   "metadata": {
    "extensions": {
     "jupyter_dashboards": {
      "version": 1,
      "views": {
       "grid_default": {
        "col": 4,
        "height": 4,
        "hidden": false,
        "row": 28,
        "width": 4
       },
       "report_default": {
        "hidden": false
       }
      }
     }
    }
   },
   "source": [
    "## Assessing Data\n",
    "In this section, detect and document at least **eight (8) quality issues and two (2) tidiness issue**. You must use **both** visual assessment\n",
    "programmatic assessement to assess the data.\n",
    "\n",
    "**Note:** pay attention to the following key points when you access the data.\n",
    "\n",
    "* You only want original ratings (no retweets) that have images. Though there are 5000+ tweets in the dataset, not all are dog ratings and some are retweets.\n",
    "* Assessing and cleaning the entire dataset completely would require a lot of time, and is not necessary to practice and demonstrate your skills in data wrangling. Therefore, the requirements of this project are only to assess and clean at least 8 quality issues and at least 2 tidiness issues in this dataset.\n",
    "* The fact that the rating numerators are greater than the denominators does not need to be cleaned. This [unique rating system](http://knowyourmeme.com/memes/theyre-good-dogs-brent) is a big part of the popularity of WeRateDogs.\n",
    "* You do not need to gather the tweets beyond August 1st, 2017. You can, but note that you won't be able to gather the image predictions for these tweets since you don't have access to the algorithm used.\n",
    "\n"
   ]
  },
  {
   "cell_type": "markdown",
   "metadata": {},
   "source": [
    "### Quality issues\n",
    "\n",
    "1.\tTimestamp in archived_data is in one column, which needs three separate columns for months, days, and year\n",
    "2.\tWe only need the original tweet. Hence, we can remove all the columns that include data associated with retweets\n",
    "3.\tRemove the unnecessary parts from at the end of each row of the 'text' columns\n",
    "4.\tIt is not necessary to have separate columns of doggo,floofer, pupper,puppo as they include the same information\n",
    "5.\tIn the 'name' column of the archived_data table, some invalid names that I have assumed can not be any dog's name. Hence, I have removed those names and 'None' entries with an empty string.\n",
    "6.\tThe denominator should not be more than 10, and Numerator should be <= 10. But there are instances where these conditions were not followed. Because of this, the result it will produce will be invalid\n",
    "\n",
    "8.\tIt is pertinent to get rid of the HTML from the 'source' column in the archived_data table and replace them with 'Twitter for iPhone', 'Vine - Make a Scene', 'Twitter Web Client', 'TweetDeck.'\n",
    "9.\tIn the image_data table, we don't need the 'img_num' column. Hence, we can remove that column from the table\n",
    "10.\tRemove duplicated rows from the jpg_url column in the 'image_data' table\n"
   ]
  },
  {
   "cell_type": "markdown",
   "metadata": {
    "extensions": {
     "jupyter_dashboards": {
      "version": 1,
      "views": {
       "grid_default": {
        "col": 0,
        "height": 7,
        "hidden": false,
        "row": 40,
        "width": 12
       },
       "report_default": {
        "hidden": false
       }
      }
     }
    }
   },
   "source": [
    "### Tidiness issues\n",
    "1. twitter_id column in the json_data dataset is in object format, convert it to int\n",
    "\n",
    "2. merging all the tables together to make our effort of storing the dataframe easy\n",
    "\n",
    "3. In the image_data dataframe, column: p1,p2 and p3 include the name of the dogs in lower and uppercase letter. \n",
    "\n",
    "4. renaming the twitter_id to tweet_id in the jason_data table to make make the merging swift"
   ]
  },
  {
   "cell_type": "markdown",
   "metadata": {
    "extensions": {
     "jupyter_dashboards": {
      "version": 1,
      "views": {
       "grid_default": {
        "col": 4,
        "height": 4,
        "hidden": false,
        "row": 32,
        "width": 4
       },
       "report_default": {
        "hidden": false
       }
      }
     }
    }
   },
   "source": [
    "## Cleaning Data\n",
    "In this section, clean **all** of the issues you documented while assessing. \n",
    "\n",
    "**Note:** Make a copy of the original data before cleaning. Cleaning includes merging individual pieces of data according to the rules of [tidy data](https://cran.r-project.org/web/packages/tidyr/vignettes/tidy-data.html). The result should be a high-quality and tidy master pandas DataFrame (or DataFrames, if appropriate)."
   ]
  },
  {
   "cell_type": "markdown",
   "metadata": {},
   "source": [
    "#### Make copies of original pieces of data"
   ]
  },
  {
   "cell_type": "code",
   "execution_count": 5,
   "metadata": {},
   "outputs": [],
   "source": [
    "archived_data= df_1.copy()\n",
    "image_data= df_2.copy()\n",
    "json_data= df_3.copy()"
   ]
  },
  {
   "cell_type": "code",
   "execution_count": 6,
   "metadata": {},
   "outputs": [
    {
     "data": {
      "text/html": [
       "<div>\n",
       "<style scoped>\n",
       "    .dataframe tbody tr th:only-of-type {\n",
       "        vertical-align: middle;\n",
       "    }\n",
       "\n",
       "    .dataframe tbody tr th {\n",
       "        vertical-align: top;\n",
       "    }\n",
       "\n",
       "    .dataframe thead th {\n",
       "        text-align: right;\n",
       "    }\n",
       "</style>\n",
       "<table border=\"1\" class=\"dataframe\">\n",
       "  <thead>\n",
       "    <tr style=\"text-align: right;\">\n",
       "      <th></th>\n",
       "      <th>tweet_id</th>\n",
       "      <th>in_reply_to_status_id</th>\n",
       "      <th>in_reply_to_user_id</th>\n",
       "      <th>timestamp</th>\n",
       "      <th>source</th>\n",
       "      <th>text</th>\n",
       "      <th>retweeted_status_id</th>\n",
       "      <th>retweeted_status_user_id</th>\n",
       "      <th>retweeted_status_timestamp</th>\n",
       "      <th>expanded_urls</th>\n",
       "      <th>rating_numerator</th>\n",
       "      <th>rating_denominator</th>\n",
       "      <th>name</th>\n",
       "      <th>doggo</th>\n",
       "      <th>floofer</th>\n",
       "      <th>pupper</th>\n",
       "      <th>puppo</th>\n",
       "    </tr>\n",
       "  </thead>\n",
       "  <tbody>\n",
       "    <tr>\n",
       "      <th>777</th>\n",
       "      <td>776088319444877312</td>\n",
       "      <td>NaN</td>\n",
       "      <td>NaN</td>\n",
       "      <td>2016-09-14 16:00:49 +0000</td>\n",
       "      <td>&lt;a href=\"http://twitter.com/download/iphone\" r...</td>\n",
       "      <td>I can't tap the screen to make the hearts appe...</td>\n",
       "      <td>NaN</td>\n",
       "      <td>NaN</td>\n",
       "      <td>NaN</td>\n",
       "      <td>https://twitter.com/dog_rates/status/776088319...</td>\n",
       "      <td>10</td>\n",
       "      <td>10</td>\n",
       "      <td>None</td>\n",
       "      <td>None</td>\n",
       "      <td>None</td>\n",
       "      <td>None</td>\n",
       "      <td>None</td>\n",
       "    </tr>\n",
       "    <tr>\n",
       "      <th>561</th>\n",
       "      <td>802624713319034886</td>\n",
       "      <td>NaN</td>\n",
       "      <td>NaN</td>\n",
       "      <td>2016-11-26 21:26:58 +0000</td>\n",
       "      <td>&lt;a href=\"http://twitter.com/download/iphone\" r...</td>\n",
       "      <td>RT @dog_rates: \"Yep... just as I suspected. Yo...</td>\n",
       "      <td>7.776842e+17</td>\n",
       "      <td>4.196984e+09</td>\n",
       "      <td>2016-09-19 01:42:24 +0000</td>\n",
       "      <td>https://twitter.com/dog_rates/status/777684233...</td>\n",
       "      <td>12</td>\n",
       "      <td>10</td>\n",
       "      <td>None</td>\n",
       "      <td>None</td>\n",
       "      <td>None</td>\n",
       "      <td>None</td>\n",
       "      <td>None</td>\n",
       "    </tr>\n",
       "    <tr>\n",
       "      <th>492</th>\n",
       "      <td>813217897535406080</td>\n",
       "      <td>NaN</td>\n",
       "      <td>NaN</td>\n",
       "      <td>2016-12-26 03:00:30 +0000</td>\n",
       "      <td>&lt;a href=\"http://twitter.com/download/iphone\" r...</td>\n",
       "      <td>Here is Atlas. He went all out this year. 13/1...</td>\n",
       "      <td>NaN</td>\n",
       "      <td>NaN</td>\n",
       "      <td>NaN</td>\n",
       "      <td>https://twitter.com/dog_rates/status/813217897...</td>\n",
       "      <td>13</td>\n",
       "      <td>10</td>\n",
       "      <td>Atlas</td>\n",
       "      <td>None</td>\n",
       "      <td>None</td>\n",
       "      <td>None</td>\n",
       "      <td>None</td>\n",
       "    </tr>\n",
       "    <tr>\n",
       "      <th>2031</th>\n",
       "      <td>671768281401958400</td>\n",
       "      <td>NaN</td>\n",
       "      <td>NaN</td>\n",
       "      <td>2015-12-01 19:10:13 +0000</td>\n",
       "      <td>&lt;a href=\"http://twitter.com/download/iphone\" r...</td>\n",
       "      <td>When you try to recreate the scene from Lady &amp;...</td>\n",
       "      <td>NaN</td>\n",
       "      <td>NaN</td>\n",
       "      <td>NaN</td>\n",
       "      <td>https://twitter.com/dog_rates/status/671768281...</td>\n",
       "      <td>10</td>\n",
       "      <td>10</td>\n",
       "      <td>None</td>\n",
       "      <td>None</td>\n",
       "      <td>None</td>\n",
       "      <td>None</td>\n",
       "      <td>None</td>\n",
       "    </tr>\n",
       "    <tr>\n",
       "      <th>2078</th>\n",
       "      <td>670832455012716544</td>\n",
       "      <td>NaN</td>\n",
       "      <td>NaN</td>\n",
       "      <td>2015-11-29 05:11:35 +0000</td>\n",
       "      <td>&lt;a href=\"http://twitter.com/download/iphone\" r...</td>\n",
       "      <td>This is Amy. She is Queen Starburst. 10/10 une...</td>\n",
       "      <td>NaN</td>\n",
       "      <td>NaN</td>\n",
       "      <td>NaN</td>\n",
       "      <td>https://twitter.com/dog_rates/status/670832455...</td>\n",
       "      <td>10</td>\n",
       "      <td>10</td>\n",
       "      <td>Amy</td>\n",
       "      <td>None</td>\n",
       "      <td>None</td>\n",
       "      <td>None</td>\n",
       "      <td>None</td>\n",
       "    </tr>\n",
       "  </tbody>\n",
       "</table>\n",
       "</div>"
      ],
      "text/plain": [
       "                tweet_id  in_reply_to_status_id  in_reply_to_user_id  \\\n",
       "777   776088319444877312                    NaN                  NaN   \n",
       "561   802624713319034886                    NaN                  NaN   \n",
       "492   813217897535406080                    NaN                  NaN   \n",
       "2031  671768281401958400                    NaN                  NaN   \n",
       "2078  670832455012716544                    NaN                  NaN   \n",
       "\n",
       "                      timestamp  \\\n",
       "777   2016-09-14 16:00:49 +0000   \n",
       "561   2016-11-26 21:26:58 +0000   \n",
       "492   2016-12-26 03:00:30 +0000   \n",
       "2031  2015-12-01 19:10:13 +0000   \n",
       "2078  2015-11-29 05:11:35 +0000   \n",
       "\n",
       "                                                 source  \\\n",
       "777   <a href=\"http://twitter.com/download/iphone\" r...   \n",
       "561   <a href=\"http://twitter.com/download/iphone\" r...   \n",
       "492   <a href=\"http://twitter.com/download/iphone\" r...   \n",
       "2031  <a href=\"http://twitter.com/download/iphone\" r...   \n",
       "2078  <a href=\"http://twitter.com/download/iphone\" r...   \n",
       "\n",
       "                                                   text  retweeted_status_id  \\\n",
       "777   I can't tap the screen to make the hearts appe...                  NaN   \n",
       "561   RT @dog_rates: \"Yep... just as I suspected. Yo...         7.776842e+17   \n",
       "492   Here is Atlas. He went all out this year. 13/1...                  NaN   \n",
       "2031  When you try to recreate the scene from Lady &...                  NaN   \n",
       "2078  This is Amy. She is Queen Starburst. 10/10 une...                  NaN   \n",
       "\n",
       "      retweeted_status_user_id retweeted_status_timestamp  \\\n",
       "777                        NaN                        NaN   \n",
       "561               4.196984e+09  2016-09-19 01:42:24 +0000   \n",
       "492                        NaN                        NaN   \n",
       "2031                       NaN                        NaN   \n",
       "2078                       NaN                        NaN   \n",
       "\n",
       "                                          expanded_urls  rating_numerator  \\\n",
       "777   https://twitter.com/dog_rates/status/776088319...                10   \n",
       "561   https://twitter.com/dog_rates/status/777684233...                12   \n",
       "492   https://twitter.com/dog_rates/status/813217897...                13   \n",
       "2031  https://twitter.com/dog_rates/status/671768281...                10   \n",
       "2078  https://twitter.com/dog_rates/status/670832455...                10   \n",
       "\n",
       "      rating_denominator   name doggo floofer pupper puppo  \n",
       "777                   10   None  None    None   None  None  \n",
       "561                   10   None  None    None   None  None  \n",
       "492                   10  Atlas  None    None   None  None  \n",
       "2031                  10   None  None    None   None  None  \n",
       "2078                  10    Amy  None    None   None  None  "
      ]
     },
     "execution_count": 6,
     "metadata": {},
     "output_type": "execute_result"
    }
   ],
   "source": [
    "archived_data.sample(5)"
   ]
  },
  {
   "cell_type": "code",
   "execution_count": 7,
   "metadata": {},
   "outputs": [
    {
     "data": {
      "text/html": [
       "<div>\n",
       "<style scoped>\n",
       "    .dataframe tbody tr th:only-of-type {\n",
       "        vertical-align: middle;\n",
       "    }\n",
       "\n",
       "    .dataframe tbody tr th {\n",
       "        vertical-align: top;\n",
       "    }\n",
       "\n",
       "    .dataframe thead th {\n",
       "        text-align: right;\n",
       "    }\n",
       "</style>\n",
       "<table border=\"1\" class=\"dataframe\">\n",
       "  <thead>\n",
       "    <tr style=\"text-align: right;\">\n",
       "      <th></th>\n",
       "      <th>tweet_id</th>\n",
       "      <th>jpg_url</th>\n",
       "      <th>img_num</th>\n",
       "      <th>p1</th>\n",
       "      <th>p1_conf</th>\n",
       "      <th>p1_dog</th>\n",
       "      <th>p2</th>\n",
       "      <th>p2_conf</th>\n",
       "      <th>p2_dog</th>\n",
       "      <th>p3</th>\n",
       "      <th>p3_conf</th>\n",
       "      <th>p3_dog</th>\n",
       "    </tr>\n",
       "  </thead>\n",
       "  <tbody>\n",
       "    <tr>\n",
       "      <th>18</th>\n",
       "      <td>666268910803644416</td>\n",
       "      <td>https://pbs.twimg.com/media/CT8QCd1WEAADXws.jpg</td>\n",
       "      <td>1</td>\n",
       "      <td>desktop_computer</td>\n",
       "      <td>0.086502</td>\n",
       "      <td>False</td>\n",
       "      <td>desk</td>\n",
       "      <td>0.085547</td>\n",
       "      <td>False</td>\n",
       "      <td>bookcase</td>\n",
       "      <td>0.079480</td>\n",
       "      <td>False</td>\n",
       "    </tr>\n",
       "    <tr>\n",
       "      <th>2006</th>\n",
       "      <td>877611172832227328</td>\n",
       "      <td>https://pbs.twimg.com/media/DCszHgmW0AAmIpT.jpg</td>\n",
       "      <td>1</td>\n",
       "      <td>Irish_setter</td>\n",
       "      <td>0.364729</td>\n",
       "      <td>True</td>\n",
       "      <td>golden_retriever</td>\n",
       "      <td>0.202907</td>\n",
       "      <td>True</td>\n",
       "      <td>Irish_terrier</td>\n",
       "      <td>0.107473</td>\n",
       "      <td>True</td>\n",
       "    </tr>\n",
       "    <tr>\n",
       "      <th>1666</th>\n",
       "      <td>812709060537683968</td>\n",
       "      <td>https://pbs.twimg.com/media/C0dSk98WEAALyya.jpg</td>\n",
       "      <td>1</td>\n",
       "      <td>Irish_setter</td>\n",
       "      <td>0.326873</td>\n",
       "      <td>True</td>\n",
       "      <td>golden_retriever</td>\n",
       "      <td>0.182610</td>\n",
       "      <td>True</td>\n",
       "      <td>Leonberg</td>\n",
       "      <td>0.156912</td>\n",
       "      <td>True</td>\n",
       "    </tr>\n",
       "    <tr>\n",
       "      <th>1676</th>\n",
       "      <td>813172488309972993</td>\n",
       "      <td>https://pbs.twimg.com/media/C0j4EESUsAABtMq.jpg</td>\n",
       "      <td>1</td>\n",
       "      <td>doormat</td>\n",
       "      <td>0.954844</td>\n",
       "      <td>False</td>\n",
       "      <td>golden_retriever</td>\n",
       "      <td>0.026193</td>\n",
       "      <td>True</td>\n",
       "      <td>cocker_spaniel</td>\n",
       "      <td>0.004386</td>\n",
       "      <td>True</td>\n",
       "    </tr>\n",
       "    <tr>\n",
       "      <th>2</th>\n",
       "      <td>666033412701032449</td>\n",
       "      <td>https://pbs.twimg.com/media/CT4521TWwAEvMyu.jpg</td>\n",
       "      <td>1</td>\n",
       "      <td>German_shepherd</td>\n",
       "      <td>0.596461</td>\n",
       "      <td>True</td>\n",
       "      <td>malinois</td>\n",
       "      <td>0.138584</td>\n",
       "      <td>True</td>\n",
       "      <td>bloodhound</td>\n",
       "      <td>0.116197</td>\n",
       "      <td>True</td>\n",
       "    </tr>\n",
       "  </tbody>\n",
       "</table>\n",
       "</div>"
      ],
      "text/plain": [
       "                tweet_id                                          jpg_url  \\\n",
       "18    666268910803644416  https://pbs.twimg.com/media/CT8QCd1WEAADXws.jpg   \n",
       "2006  877611172832227328  https://pbs.twimg.com/media/DCszHgmW0AAmIpT.jpg   \n",
       "1666  812709060537683968  https://pbs.twimg.com/media/C0dSk98WEAALyya.jpg   \n",
       "1676  813172488309972993  https://pbs.twimg.com/media/C0j4EESUsAABtMq.jpg   \n",
       "2     666033412701032449  https://pbs.twimg.com/media/CT4521TWwAEvMyu.jpg   \n",
       "\n",
       "      img_num                p1   p1_conf  p1_dog                p2   p2_conf  \\\n",
       "18          1  desktop_computer  0.086502   False              desk  0.085547   \n",
       "2006        1      Irish_setter  0.364729    True  golden_retriever  0.202907   \n",
       "1666        1      Irish_setter  0.326873    True  golden_retriever  0.182610   \n",
       "1676        1           doormat  0.954844   False  golden_retriever  0.026193   \n",
       "2           1   German_shepherd  0.596461    True          malinois  0.138584   \n",
       "\n",
       "      p2_dog              p3   p3_conf  p3_dog  \n",
       "18     False        bookcase  0.079480   False  \n",
       "2006    True   Irish_terrier  0.107473    True  \n",
       "1666    True        Leonberg  0.156912    True  \n",
       "1676    True  cocker_spaniel  0.004386    True  \n",
       "2       True      bloodhound  0.116197    True  "
      ]
     },
     "execution_count": 7,
     "metadata": {},
     "output_type": "execute_result"
    }
   ],
   "source": [
    "image_data.sample(5)"
   ]
  },
  {
   "cell_type": "code",
   "execution_count": 8,
   "metadata": {},
   "outputs": [
    {
     "data": {
      "text/html": [
       "<div>\n",
       "<style scoped>\n",
       "    .dataframe tbody tr th:only-of-type {\n",
       "        vertical-align: middle;\n",
       "    }\n",
       "\n",
       "    .dataframe tbody tr th {\n",
       "        vertical-align: top;\n",
       "    }\n",
       "\n",
       "    .dataframe thead th {\n",
       "        text-align: right;\n",
       "    }\n",
       "</style>\n",
       "<table border=\"1\" class=\"dataframe\">\n",
       "  <thead>\n",
       "    <tr style=\"text-align: right;\">\n",
       "      <th></th>\n",
       "      <th>twitter_id</th>\n",
       "      <th>retweet_count</th>\n",
       "      <th>favorite_count</th>\n",
       "    </tr>\n",
       "  </thead>\n",
       "  <tbody>\n",
       "    <tr>\n",
       "      <th>2306</th>\n",
       "      <td>666817836334096384</td>\n",
       "      <td>267</td>\n",
       "      <td>540</td>\n",
       "    </tr>\n",
       "    <tr>\n",
       "      <th>595</th>\n",
       "      <td>798697898615730177</td>\n",
       "      <td>7602</td>\n",
       "      <td>0</td>\n",
       "    </tr>\n",
       "    <tr>\n",
       "      <th>582</th>\n",
       "      <td>800188575492947969</td>\n",
       "      <td>4581</td>\n",
       "      <td>0</td>\n",
       "    </tr>\n",
       "    <tr>\n",
       "      <th>1943</th>\n",
       "      <td>673707060090052608</td>\n",
       "      <td>434</td>\n",
       "      <td>1177</td>\n",
       "    </tr>\n",
       "    <tr>\n",
       "      <th>804</th>\n",
       "      <td>772114945936949249</td>\n",
       "      <td>546</td>\n",
       "      <td>3005</td>\n",
       "    </tr>\n",
       "  </tbody>\n",
       "</table>\n",
       "</div>"
      ],
      "text/plain": [
       "              twitter_id  retweet_count  favorite_count\n",
       "2306  666817836334096384            267             540\n",
       "595   798697898615730177           7602               0\n",
       "582   800188575492947969           4581               0\n",
       "1943  673707060090052608            434            1177\n",
       "804   772114945936949249            546            3005"
      ]
     },
     "execution_count": 8,
     "metadata": {},
     "output_type": "execute_result"
    }
   ],
   "source": [
    "json_data.sample(5)"
   ]
  },
  {
   "cell_type": "markdown",
   "metadata": {},
   "source": [
    "### Issue #1:\n",
    "Time stamp in archived_data is in one column which needs 3 seperate columns for months, days and year"
   ]
  },
  {
   "cell_type": "markdown",
   "metadata": {},
   "source": [
    "#### Define:\n",
    "Creating four seperate columns for 'year', 'time','month','day' from the 'timestamp' column. Then drop the 'timestamp' column."
   ]
  },
  {
   "cell_type": "markdown",
   "metadata": {},
   "source": [
    "#### Code"
   ]
  },
  {
   "cell_type": "code",
   "execution_count": 9,
   "metadata": {},
   "outputs": [],
   "source": [
    "archived_data['year']= pd.to_datetime(archived_data['timestamp']).dt.year\n",
    "archived_data['time'] = pd.to_datetime(archived_data['timestamp']).dt.time\n",
    "archived_data['month'] = pd.to_datetime(archived_data['timestamp']).dt.month\n",
    "archived_data['day'] = pd.to_datetime(archived_data['timestamp']).dt.day\n",
    "archived_data.drop(\"timestamp\", axis=1,inplace=True)"
   ]
  },
  {
   "cell_type": "markdown",
   "metadata": {},
   "source": [
    "#### Test"
   ]
  },
  {
   "cell_type": "code",
   "execution_count": 10,
   "metadata": {},
   "outputs": [
    {
     "data": {
      "text/html": [
       "<div>\n",
       "<style scoped>\n",
       "    .dataframe tbody tr th:only-of-type {\n",
       "        vertical-align: middle;\n",
       "    }\n",
       "\n",
       "    .dataframe tbody tr th {\n",
       "        vertical-align: top;\n",
       "    }\n",
       "\n",
       "    .dataframe thead th {\n",
       "        text-align: right;\n",
       "    }\n",
       "</style>\n",
       "<table border=\"1\" class=\"dataframe\">\n",
       "  <thead>\n",
       "    <tr style=\"text-align: right;\">\n",
       "      <th></th>\n",
       "      <th>tweet_id</th>\n",
       "      <th>in_reply_to_status_id</th>\n",
       "      <th>in_reply_to_user_id</th>\n",
       "      <th>source</th>\n",
       "      <th>text</th>\n",
       "      <th>retweeted_status_id</th>\n",
       "      <th>retweeted_status_user_id</th>\n",
       "      <th>retweeted_status_timestamp</th>\n",
       "      <th>expanded_urls</th>\n",
       "      <th>rating_numerator</th>\n",
       "      <th>rating_denominator</th>\n",
       "      <th>name</th>\n",
       "      <th>doggo</th>\n",
       "      <th>floofer</th>\n",
       "      <th>pupper</th>\n",
       "      <th>puppo</th>\n",
       "      <th>year</th>\n",
       "      <th>time</th>\n",
       "      <th>month</th>\n",
       "      <th>day</th>\n",
       "    </tr>\n",
       "  </thead>\n",
       "  <tbody>\n",
       "    <tr>\n",
       "      <th>681</th>\n",
       "      <td>788765914992902144</td>\n",
       "      <td>NaN</td>\n",
       "      <td>NaN</td>\n",
       "      <td>&lt;a href=\"http://twitter.com/download/iphone\" r...</td>\n",
       "      <td>This is Butter. She can have whatever she want...</td>\n",
       "      <td>NaN</td>\n",
       "      <td>NaN</td>\n",
       "      <td>NaN</td>\n",
       "      <td>https://twitter.com/dog_rates/status/788765914...</td>\n",
       "      <td>12</td>\n",
       "      <td>10</td>\n",
       "      <td>Butter</td>\n",
       "      <td>None</td>\n",
       "      <td>None</td>\n",
       "      <td>None</td>\n",
       "      <td>None</td>\n",
       "      <td>2016</td>\n",
       "      <td>15:37:03</td>\n",
       "      <td>10</td>\n",
       "      <td>19</td>\n",
       "    </tr>\n",
       "    <tr>\n",
       "      <th>418</th>\n",
       "      <td>822462944365645825</td>\n",
       "      <td>NaN</td>\n",
       "      <td>NaN</td>\n",
       "      <td>&lt;a href=\"http://twitter.com/download/iphone\" r...</td>\n",
       "      <td>This is Gabe. He was the unequivocal embodimen...</td>\n",
       "      <td>NaN</td>\n",
       "      <td>NaN</td>\n",
       "      <td>NaN</td>\n",
       "      <td>https://twitter.com/dog_rates/status/822462944...</td>\n",
       "      <td>14</td>\n",
       "      <td>10</td>\n",
       "      <td>Gabe</td>\n",
       "      <td>None</td>\n",
       "      <td>None</td>\n",
       "      <td>pupper</td>\n",
       "      <td>None</td>\n",
       "      <td>2017</td>\n",
       "      <td>15:17:01</td>\n",
       "      <td>1</td>\n",
       "      <td>20</td>\n",
       "    </tr>\n",
       "  </tbody>\n",
       "</table>\n",
       "</div>"
      ],
      "text/plain": [
       "               tweet_id  in_reply_to_status_id  in_reply_to_user_id  \\\n",
       "681  788765914992902144                    NaN                  NaN   \n",
       "418  822462944365645825                    NaN                  NaN   \n",
       "\n",
       "                                                source  \\\n",
       "681  <a href=\"http://twitter.com/download/iphone\" r...   \n",
       "418  <a href=\"http://twitter.com/download/iphone\" r...   \n",
       "\n",
       "                                                  text  retweeted_status_id  \\\n",
       "681  This is Butter. She can have whatever she want...                  NaN   \n",
       "418  This is Gabe. He was the unequivocal embodimen...                  NaN   \n",
       "\n",
       "     retweeted_status_user_id retweeted_status_timestamp  \\\n",
       "681                       NaN                        NaN   \n",
       "418                       NaN                        NaN   \n",
       "\n",
       "                                         expanded_urls  rating_numerator  \\\n",
       "681  https://twitter.com/dog_rates/status/788765914...                12   \n",
       "418  https://twitter.com/dog_rates/status/822462944...                14   \n",
       "\n",
       "     rating_denominator    name doggo floofer  pupper puppo  year      time  \\\n",
       "681                  10  Butter  None    None    None  None  2016  15:37:03   \n",
       "418                  10    Gabe  None    None  pupper  None  2017  15:17:01   \n",
       "\n",
       "     month  day  \n",
       "681     10   19  \n",
       "418      1   20  "
      ]
     },
     "execution_count": 10,
     "metadata": {},
     "output_type": "execute_result"
    }
   ],
   "source": [
    "archived_data.sample(2)"
   ]
  },
  {
   "cell_type": "markdown",
   "metadata": {},
   "source": [
    "### Issue #2:\n",
    "We only need original tweet.Hence,we can remove all the columns that includes data associated with retweets"
   ]
  },
  {
   "cell_type": "markdown",
   "metadata": {
    "collapsed": true,
    "extensions": {
     "jupyter_dashboards": {
      "version": 1,
      "views": {
       "grid_default": {
        "hidden": true
       },
       "report_default": {
        "hidden": true
       }
      }
     }
    }
   },
   "source": [
    "#### Define\n",
    "Using the drop method on the 'achived_data' dataframe to delete all the following columns (in_reply_to_user_id, in_reply_to_user_id, retweeted_status_id, retweeted_status_user_id,retweeted_status_timestamp,expanded_urls)"
   ]
  },
  {
   "cell_type": "markdown",
   "metadata": {},
   "source": [
    "#### Code"
   ]
  },
  {
   "cell_type": "code",
   "execution_count": 11,
   "metadata": {},
   "outputs": [],
   "source": [
    "archived_data.drop(['in_reply_to_user_id','in_reply_to_status_id', 'retweeted_status_id', 'retweeted_status_user_id','retweeted_status_timestamp','expanded_urls'], axis=1,inplace=True)"
   ]
  },
  {
   "cell_type": "markdown",
   "metadata": {},
   "source": [
    "#### Test"
   ]
  },
  {
   "cell_type": "code",
   "execution_count": 12,
   "metadata": {
    "scrolled": true
   },
   "outputs": [
    {
     "data": {
      "text/html": [
       "<div>\n",
       "<style scoped>\n",
       "    .dataframe tbody tr th:only-of-type {\n",
       "        vertical-align: middle;\n",
       "    }\n",
       "\n",
       "    .dataframe tbody tr th {\n",
       "        vertical-align: top;\n",
       "    }\n",
       "\n",
       "    .dataframe thead th {\n",
       "        text-align: right;\n",
       "    }\n",
       "</style>\n",
       "<table border=\"1\" class=\"dataframe\">\n",
       "  <thead>\n",
       "    <tr style=\"text-align: right;\">\n",
       "      <th></th>\n",
       "      <th>tweet_id</th>\n",
       "      <th>source</th>\n",
       "      <th>text</th>\n",
       "      <th>rating_numerator</th>\n",
       "      <th>rating_denominator</th>\n",
       "      <th>name</th>\n",
       "      <th>doggo</th>\n",
       "      <th>floofer</th>\n",
       "      <th>pupper</th>\n",
       "      <th>puppo</th>\n",
       "      <th>year</th>\n",
       "      <th>time</th>\n",
       "      <th>month</th>\n",
       "      <th>day</th>\n",
       "    </tr>\n",
       "  </thead>\n",
       "  <tbody>\n",
       "    <tr>\n",
       "      <th>0</th>\n",
       "      <td>892420643555336193</td>\n",
       "      <td>&lt;a href=\"http://twitter.com/download/iphone\" r...</td>\n",
       "      <td>This is Phineas. He's a mystical boy. Only eve...</td>\n",
       "      <td>13</td>\n",
       "      <td>10</td>\n",
       "      <td>Phineas</td>\n",
       "      <td>None</td>\n",
       "      <td>None</td>\n",
       "      <td>None</td>\n",
       "      <td>None</td>\n",
       "      <td>2017</td>\n",
       "      <td>16:23:56</td>\n",
       "      <td>8</td>\n",
       "      <td>1</td>\n",
       "    </tr>\n",
       "    <tr>\n",
       "      <th>1</th>\n",
       "      <td>892177421306343426</td>\n",
       "      <td>&lt;a href=\"http://twitter.com/download/iphone\" r...</td>\n",
       "      <td>This is Tilly. She's just checking pup on you....</td>\n",
       "      <td>13</td>\n",
       "      <td>10</td>\n",
       "      <td>Tilly</td>\n",
       "      <td>None</td>\n",
       "      <td>None</td>\n",
       "      <td>None</td>\n",
       "      <td>None</td>\n",
       "      <td>2017</td>\n",
       "      <td>00:17:27</td>\n",
       "      <td>8</td>\n",
       "      <td>1</td>\n",
       "    </tr>\n",
       "    <tr>\n",
       "      <th>2</th>\n",
       "      <td>891815181378084864</td>\n",
       "      <td>&lt;a href=\"http://twitter.com/download/iphone\" r...</td>\n",
       "      <td>This is Archie. He is a rare Norwegian Pouncin...</td>\n",
       "      <td>12</td>\n",
       "      <td>10</td>\n",
       "      <td>Archie</td>\n",
       "      <td>None</td>\n",
       "      <td>None</td>\n",
       "      <td>None</td>\n",
       "      <td>None</td>\n",
       "      <td>2017</td>\n",
       "      <td>00:18:03</td>\n",
       "      <td>7</td>\n",
       "      <td>31</td>\n",
       "    </tr>\n",
       "    <tr>\n",
       "      <th>3</th>\n",
       "      <td>891689557279858688</td>\n",
       "      <td>&lt;a href=\"http://twitter.com/download/iphone\" r...</td>\n",
       "      <td>This is Darla. She commenced a snooze mid meal...</td>\n",
       "      <td>13</td>\n",
       "      <td>10</td>\n",
       "      <td>Darla</td>\n",
       "      <td>None</td>\n",
       "      <td>None</td>\n",
       "      <td>None</td>\n",
       "      <td>None</td>\n",
       "      <td>2017</td>\n",
       "      <td>15:58:51</td>\n",
       "      <td>7</td>\n",
       "      <td>30</td>\n",
       "    </tr>\n",
       "    <tr>\n",
       "      <th>4</th>\n",
       "      <td>891327558926688256</td>\n",
       "      <td>&lt;a href=\"http://twitter.com/download/iphone\" r...</td>\n",
       "      <td>This is Franklin. He would like you to stop ca...</td>\n",
       "      <td>12</td>\n",
       "      <td>10</td>\n",
       "      <td>Franklin</td>\n",
       "      <td>None</td>\n",
       "      <td>None</td>\n",
       "      <td>None</td>\n",
       "      <td>None</td>\n",
       "      <td>2017</td>\n",
       "      <td>16:00:24</td>\n",
       "      <td>7</td>\n",
       "      <td>29</td>\n",
       "    </tr>\n",
       "  </tbody>\n",
       "</table>\n",
       "</div>"
      ],
      "text/plain": [
       "             tweet_id                                             source  \\\n",
       "0  892420643555336193  <a href=\"http://twitter.com/download/iphone\" r...   \n",
       "1  892177421306343426  <a href=\"http://twitter.com/download/iphone\" r...   \n",
       "2  891815181378084864  <a href=\"http://twitter.com/download/iphone\" r...   \n",
       "3  891689557279858688  <a href=\"http://twitter.com/download/iphone\" r...   \n",
       "4  891327558926688256  <a href=\"http://twitter.com/download/iphone\" r...   \n",
       "\n",
       "                                                text  rating_numerator  \\\n",
       "0  This is Phineas. He's a mystical boy. Only eve...                13   \n",
       "1  This is Tilly. She's just checking pup on you....                13   \n",
       "2  This is Archie. He is a rare Norwegian Pouncin...                12   \n",
       "3  This is Darla. She commenced a snooze mid meal...                13   \n",
       "4  This is Franklin. He would like you to stop ca...                12   \n",
       "\n",
       "   rating_denominator      name doggo floofer pupper puppo  year      time  \\\n",
       "0                  10   Phineas  None    None   None  None  2017  16:23:56   \n",
       "1                  10     Tilly  None    None   None  None  2017  00:17:27   \n",
       "2                  10    Archie  None    None   None  None  2017  00:18:03   \n",
       "3                  10     Darla  None    None   None  None  2017  15:58:51   \n",
       "4                  10  Franklin  None    None   None  None  2017  16:00:24   \n",
       "\n",
       "   month  day  \n",
       "0      8    1  \n",
       "1      8    1  \n",
       "2      7   31  \n",
       "3      7   30  \n",
       "4      7   29  "
      ]
     },
     "execution_count": 12,
     "metadata": {},
     "output_type": "execute_result"
    }
   ],
   "source": [
    "archived_data.head()"
   ]
  },
  {
   "cell_type": "markdown",
   "metadata": {},
   "source": [
    "### Issue #3:\n",
    "Remove the unnecessary parts from at the end of each rows of the 'text' coulmns\n",
    "#### Define\n",
    "1. The entire text column was not visible in the workspace, so it was necessary to make it visible using the set_options method\n",
    "2. Then using the str.split method each row was divided into 7 columns\n",
    "3. Then rename the column as the title of each column was integer\n",
    "4. selecting only the first column and remove the last part of each rows which had '10/13' like string part\n",
    "5. Replace the output column with the 'text' column in the achived_data dataframe. \n",
    "#### Code"
   ]
  },
  {
   "cell_type": "code",
   "execution_count": 13,
   "metadata": {},
   "outputs": [
    {
     "name": "stderr",
     "output_type": "stream",
     "text": [
      "C:\\Users\\ASUS\\AppData\\Local\\Temp/ipykernel_13564/2854549518.py:1: FutureWarning: Passing a negative integer is deprecated in version 1.0 and will not be supported in future version. Instead, use None to not limit the column width.\n",
      "  pd.set_option('display.max_colwidth',-1)\n"
     ]
    }
   ],
   "source": [
    "pd.set_option('display.max_colwidth',-1)\n",
    "archived_test= archived_data.text.str.split('/',expand=True)\n",
    "archived_test= archived_test.rename(columns={0: 'zero',1: 'One', 2: 'Two', 3: 'Three', 4: 'Four', 5: 'Five', 6: 'Six', 7: 'Seven'})\n",
    "archived_test.drop(['One','Two','Three','Four','Five','Six','Seven'], axis=1, inplace= True)\n",
    "archived_test['zero']= archived_test.zero.str[:-2]\n",
    "archived_data['text']= archived_test['zero']\n",
    "\n"
   ]
  },
  {
   "cell_type": "markdown",
   "metadata": {},
   "source": [
    "#### Test"
   ]
  },
  {
   "cell_type": "code",
   "execution_count": 14,
   "metadata": {},
   "outputs": [
    {
     "data": {
      "text/plain": [
       "None      2099\n",
       "pupper    257 \n",
       "Name: pupper, dtype: int64"
      ]
     },
     "execution_count": 14,
     "metadata": {},
     "output_type": "execute_result"
    }
   ],
   "source": [
    "archived_data.pupper.value_counts()"
   ]
  },
  {
   "cell_type": "markdown",
   "metadata": {},
   "source": [
    "### Issue #4:\n",
    "It is not necessary to have separate columns of doggo,floofer, pupper,puppo as they include the same information\n",
    "\n"
   ]
  },
  {
   "cell_type": "markdown",
   "metadata": {},
   "source": [
    "#### Define\n",
    "Create a different table (archive_dog) to have a clear view of all the columns together. Then Replace all the None values from each column and creathe a new column 'breed' by adding all the columns ('doggo','pupper','floofer','puppo'). Then drop all the dogs' name column and keep the newly created breed column. At last, add the breed column in the archived_data table\n",
    "\n"
   ]
  },
  {
   "cell_type": "markdown",
   "metadata": {},
   "source": [
    "#### Code"
   ]
  },
  {
   "cell_type": "code",
   "execution_count": 15,
   "metadata": {},
   "outputs": [
    {
     "name": "stderr",
     "output_type": "stream",
     "text": [
      "C:\\Users\\ASUS\\AppData\\Local\\Temp/ipykernel_13564/3795826363.py:2: SettingWithCopyWarning: \n",
      "A value is trying to be set on a copy of a slice from a DataFrame.\n",
      "Try using .loc[row_indexer,col_indexer] = value instead\n",
      "\n",
      "See the caveats in the documentation: https://pandas.pydata.org/pandas-docs/stable/user_guide/indexing.html#returning-a-view-versus-a-copy\n",
      "  archive_dog['doggo']= archive_dog.doggo.replace('None','')\n",
      "C:\\Users\\ASUS\\AppData\\Local\\Temp/ipykernel_13564/3795826363.py:3: SettingWithCopyWarning: \n",
      "A value is trying to be set on a copy of a slice from a DataFrame.\n",
      "Try using .loc[row_indexer,col_indexer] = value instead\n",
      "\n",
      "See the caveats in the documentation: https://pandas.pydata.org/pandas-docs/stable/user_guide/indexing.html#returning-a-view-versus-a-copy\n",
      "  archive_dog['floofer']= archive_dog.floofer.replace('None','')\n",
      "C:\\Users\\ASUS\\AppData\\Local\\Temp/ipykernel_13564/3795826363.py:4: SettingWithCopyWarning: \n",
      "A value is trying to be set on a copy of a slice from a DataFrame.\n",
      "Try using .loc[row_indexer,col_indexer] = value instead\n",
      "\n",
      "See the caveats in the documentation: https://pandas.pydata.org/pandas-docs/stable/user_guide/indexing.html#returning-a-view-versus-a-copy\n",
      "  archive_dog['pupper']= archive_dog.pupper.replace('None','')\n",
      "C:\\Users\\ASUS\\AppData\\Local\\Temp/ipykernel_13564/3795826363.py:5: SettingWithCopyWarning: \n",
      "A value is trying to be set on a copy of a slice from a DataFrame.\n",
      "Try using .loc[row_indexer,col_indexer] = value instead\n",
      "\n",
      "See the caveats in the documentation: https://pandas.pydata.org/pandas-docs/stable/user_guide/indexing.html#returning-a-view-versus-a-copy\n",
      "  archive_dog['puppo']= archive_dog.puppo.replace('None','')\n",
      "C:\\Users\\ASUS\\AppData\\Local\\Temp/ipykernel_13564/3795826363.py:6: SettingWithCopyWarning: \n",
      "A value is trying to be set on a copy of a slice from a DataFrame.\n",
      "Try using .loc[row_indexer,col_indexer] = value instead\n",
      "\n",
      "See the caveats in the documentation: https://pandas.pydata.org/pandas-docs/stable/user_guide/indexing.html#returning-a-view-versus-a-copy\n",
      "  archive_dog['breed']= (archive_dog['doggo'])+' ' +(archive_dog['floofer'])+' ' +(archive_dog['puppo'])+' ' +(archive_dog['pupper'])\n"
     ]
    }
   ],
   "source": [
    "archive_dog= archived_data [['name','doggo','floofer','pupper','puppo']]\n",
    "archive_dog['doggo']= archive_dog.doggo.replace('None','')\n",
    "archive_dog['floofer']= archive_dog.floofer.replace('None','')\n",
    "archive_dog['pupper']= archive_dog.pupper.replace('None','')\n",
    "archive_dog['puppo']= archive_dog.puppo.replace('None','')\n",
    "archive_dog['breed']= (archive_dog['doggo'])+' ' +(archive_dog['floofer'])+' ' +(archive_dog['puppo'])+' ' +(archive_dog['pupper'])\n",
    "archived_data ['breed']= archive_dog['breed']\n",
    "archived_data.drop(['doggo','floofer','pupper','puppo'], axis=1, inplace=True)\n"
   ]
  },
  {
   "cell_type": "markdown",
   "metadata": {},
   "source": [
    "#### Test"
   ]
  },
  {
   "cell_type": "code",
   "execution_count": 16,
   "metadata": {
    "scrolled": true
   },
   "outputs": [
    {
     "data": {
      "text/html": [
       "<div>\n",
       "<style scoped>\n",
       "    .dataframe tbody tr th:only-of-type {\n",
       "        vertical-align: middle;\n",
       "    }\n",
       "\n",
       "    .dataframe tbody tr th {\n",
       "        vertical-align: top;\n",
       "    }\n",
       "\n",
       "    .dataframe thead th {\n",
       "        text-align: right;\n",
       "    }\n",
       "</style>\n",
       "<table border=\"1\" class=\"dataframe\">\n",
       "  <thead>\n",
       "    <tr style=\"text-align: right;\">\n",
       "      <th></th>\n",
       "      <th>tweet_id</th>\n",
       "      <th>source</th>\n",
       "      <th>text</th>\n",
       "      <th>rating_numerator</th>\n",
       "      <th>rating_denominator</th>\n",
       "      <th>name</th>\n",
       "      <th>year</th>\n",
       "      <th>time</th>\n",
       "      <th>month</th>\n",
       "      <th>day</th>\n",
       "      <th>breed</th>\n",
       "    </tr>\n",
       "  </thead>\n",
       "  <tbody>\n",
       "    <tr>\n",
       "      <th>572</th>\n",
       "      <td>801285448605831168</td>\n",
       "      <td>&lt;a href=\"http://twitter.com/download/iphone\" rel=\"nofollow\"&gt;Twitter for iPhone&lt;/a&gt;</td>\n",
       "      <td>oh h*ck</td>\n",
       "      <td>10</td>\n",
       "      <td>10</td>\n",
       "      <td>None</td>\n",
       "      <td>2016</td>\n",
       "      <td>04:45:12</td>\n",
       "      <td>11</td>\n",
       "      <td>23</td>\n",
       "      <td></td>\n",
       "    </tr>\n",
       "    <tr>\n",
       "      <th>380</th>\n",
       "      <td>827600520311402496</td>\n",
       "      <td>&lt;a href=\"http://twitter.com/download/iphone\" rel=\"nofollow\"&gt;Twitter for iPhone&lt;/a&gt;</td>\n",
       "      <td>Meet Tucker. It's his birthday. He's pupset with you because you're too busy playing @GoodDogsGame to celebrate.</td>\n",
       "      <td>13</td>\n",
       "      <td>10</td>\n",
       "      <td>Tucker</td>\n",
       "      <td>2017</td>\n",
       "      <td>19:31:54</td>\n",
       "      <td>2</td>\n",
       "      <td>3</td>\n",
       "      <td></td>\n",
       "    </tr>\n",
       "    <tr>\n",
       "      <th>294</th>\n",
       "      <td>837482249356513284</td>\n",
       "      <td>&lt;a href=\"http://twitter.com/download/iphone\" rel=\"nofollow\"&gt;Twitter for iPhone&lt;/a&gt;</td>\n",
       "      <td>This is Waffles. He's a ship captain in real life and in @GoodDogsGame. Must've gotten to the max level (wink)</td>\n",
       "      <td>13</td>\n",
       "      <td>10</td>\n",
       "      <td>Waffles</td>\n",
       "      <td>2017</td>\n",
       "      <td>01:58:22</td>\n",
       "      <td>3</td>\n",
       "      <td>3</td>\n",
       "      <td></td>\n",
       "    </tr>\n",
       "  </tbody>\n",
       "</table>\n",
       "</div>"
      ],
      "text/plain": [
       "               tweet_id  \\\n",
       "572  801285448605831168   \n",
       "380  827600520311402496   \n",
       "294  837482249356513284   \n",
       "\n",
       "                                                                                 source  \\\n",
       "572  <a href=\"http://twitter.com/download/iphone\" rel=\"nofollow\">Twitter for iPhone</a>   \n",
       "380  <a href=\"http://twitter.com/download/iphone\" rel=\"nofollow\">Twitter for iPhone</a>   \n",
       "294  <a href=\"http://twitter.com/download/iphone\" rel=\"nofollow\">Twitter for iPhone</a>   \n",
       "\n",
       "                                                                                                                  text  \\\n",
       "572  oh h*ck                                                                                                             \n",
       "380  Meet Tucker. It's his birthday. He's pupset with you because you're too busy playing @GoodDogsGame to celebrate.    \n",
       "294  This is Waffles. He's a ship captain in real life and in @GoodDogsGame. Must've gotten to the max level (wink)      \n",
       "\n",
       "     rating_numerator  rating_denominator     name  year      time  month  \\\n",
       "572  10                10                  None     2016  04:45:12  11      \n",
       "380  13                10                  Tucker   2017  19:31:54  2       \n",
       "294  13                10                  Waffles  2017  01:58:22  3       \n",
       "\n",
       "     day breed  \n",
       "572  23         \n",
       "380  3          \n",
       "294  3          "
      ]
     },
     "execution_count": 16,
     "metadata": {},
     "output_type": "execute_result"
    }
   ],
   "source": [
    "archived_data.sample(3)"
   ]
  },
  {
   "cell_type": "markdown",
   "metadata": {},
   "source": [
    "### Issue #5:\n",
    "In the 'name' column of archived_data table there are some invalid names which I have assumed can not be the name of any dog. Hence, I have decided to remove those names and 'None' entries with an empty string. \n",
    "#### Define\n",
    "To do that, all those invalid vaues were listed into 'invalid_names' list and using a for loop those name were replaced.\n",
    "\n",
    "#### Code"
   ]
  },
  {
   "cell_type": "code",
   "execution_count": 17,
   "metadata": {},
   "outputs": [
    {
     "name": "stdout",
     "output_type": "stream",
     "text": [
      "0       Phineas \n",
      "1       Tilly   \n",
      "2       Archie  \n",
      "3       Darla   \n",
      "4       Franklin\n",
      "          ...   \n",
      "2351            \n",
      "2352            \n",
      "2353            \n",
      "2354            \n",
      "2355            \n",
      "Name: name, Length: 2356, dtype: object\n"
     ]
    }
   ],
   "source": [
    "invalid_names= ['a','An','the','all','None','very','one','space','such','quite','unacceptable','this','officially','old','not','my','mad','light','life','just','infuriating','get','incredibly','his','getting','by','an','actually','O',]\n",
    "for name in invalid_names:\n",
    "    archived_data.name.replace(name,'',inplace= True)\n",
    "print(archived_data['name'])\n",
    "\n",
    "\n",
    "\n",
    "\n"
   ]
  },
  {
   "cell_type": "markdown",
   "metadata": {},
   "source": [
    "#### Test"
   ]
  },
  {
   "cell_type": "code",
   "execution_count": 18,
   "metadata": {},
   "outputs": [
    {
     "data": {
      "text/plain": [
       "2265    Frank  \n",
       "1598           \n",
       "627     Rizzy  \n",
       "440            \n",
       "1404    Calbert\n",
       "Name: name, dtype: object"
      ]
     },
     "execution_count": 18,
     "metadata": {},
     "output_type": "execute_result"
    }
   ],
   "source": [
    "archived_data.name.sample(5)\n"
   ]
  },
  {
   "cell_type": "markdown",
   "metadata": {},
   "source": [
    "### Issue #6 and #7:\n",
    "Denominator should not be more than 10 and Numerator should be <= 10. But there are instances where these conditins were not followed. Becauyse of this the result it will produce will be invalid\n",
    "\n",
    "Lets see in how many cases did not abide by this condition.\n",
    "#### Define\n",
    "using the min and max on these two columns and then summing up the number where the above condition was not followed.\n",
    "\n",
    "#### Code"
   ]
  },
  {
   "cell_type": "code",
   "execution_count": 19,
   "metadata": {},
   "outputs": [
    {
     "data": {
      "text/plain": [
       "23"
      ]
     },
     "execution_count": 19,
     "metadata": {},
     "output_type": "execute_result"
    }
   ],
   "source": [
    "sum(archived_data.rating_denominator!= 10)"
   ]
  },
  {
   "cell_type": "code",
   "execution_count": 20,
   "metadata": {},
   "outputs": [
    {
     "data": {
      "text/plain": [
       "1455"
      ]
     },
     "execution_count": 20,
     "metadata": {},
     "output_type": "execute_result"
    }
   ],
   "source": [
    "sum(archived_data.rating_numerator > 10)"
   ]
  },
  {
   "cell_type": "markdown",
   "metadata": {},
   "source": [
    "#### Test"
   ]
  },
  {
   "cell_type": "code",
   "execution_count": 21,
   "metadata": {},
   "outputs": [
    {
     "data": {
      "text/plain": [
       "1455"
      ]
     },
     "execution_count": 21,
     "metadata": {},
     "output_type": "execute_result"
    }
   ],
   "source": [
    "sum(archived_data.rating_denominator!= 10)\n",
    "sum(archived_data.rating_numerator > 10)"
   ]
  },
  {
   "cell_type": "markdown",
   "metadata": {},
   "source": [
    "### Issue #8:\n",
    "It is pertinent to get rid off the HTML from the 'source' column in the archived_data table and replace them with \n",
    "'Twitter for iPhone', 'Vine - Make a Scene', 'Twitter Web Client', 'TweetDeck'\n",
    "#### Define\n",
    "Use the replace method on the 4 HTML to replace them with 'Twitter for iPhone', 'Vine - Make a Scene', 'Twitter Web Client', 'TweetDeck'.\n",
    "\n",
    "#### Code"
   ]
  },
  {
   "cell_type": "code",
   "execution_count": 22,
   "metadata": {},
   "outputs": [
    {
     "name": "stderr",
     "output_type": "stream",
     "text": [
      "C:\\Users\\ASUS\\AppData\\Local\\Temp/ipykernel_13564/3409894765.py:1: FutureWarning: The default value of regex will change from True to False in a future version.\n",
      "  archived_data.source= archived_data.source.str.replace('<a href=\"http://twitter.com/download/iphone\" rel=\"nofollow\">Twitter for iPhone</a>','Twitter for iPhone')\n",
      "C:\\Users\\ASUS\\AppData\\Local\\Temp/ipykernel_13564/3409894765.py:2: FutureWarning: The default value of regex will change from True to False in a future version.\n",
      "  archived_data.source= archived_data.source.str.replace('<a href=\"http://vine.co\" rel=\"nofollow\">Vine - Make a Scene</a>','Vine - Make a Scene')\n",
      "C:\\Users\\ASUS\\AppData\\Local\\Temp/ipykernel_13564/3409894765.py:3: FutureWarning: The default value of regex will change from True to False in a future version.\n",
      "  archived_data.source= archived_data.source.str.replace('<a href=\"http://twitter.com\" rel=\"nofollow\">Twitter Web Client</a>','Twitter Web Client')\n",
      "C:\\Users\\ASUS\\AppData\\Local\\Temp/ipykernel_13564/3409894765.py:4: FutureWarning: The default value of regex will change from True to False in a future version.\n",
      "  archived_data.source= archived_data.source.str.replace('<a href=\"https://about.twitter.com/products/tweetdeck\" rel=\"nofollow\">TweetDeck</a>','TweetDeck')\n"
     ]
    }
   ],
   "source": [
    "archived_data.source= archived_data.source.str.replace('<a href=\"http://twitter.com/download/iphone\" rel=\"nofollow\">Twitter for iPhone</a>','Twitter for iPhone')\n",
    "archived_data.source= archived_data.source.str.replace('<a href=\"http://vine.co\" rel=\"nofollow\">Vine - Make a Scene</a>','Vine - Make a Scene')\n",
    "archived_data.source= archived_data.source.str.replace('<a href=\"http://twitter.com\" rel=\"nofollow\">Twitter Web Client</a>','Twitter Web Client')\n",
    "archived_data.source= archived_data.source.str.replace('<a href=\"https://about.twitter.com/products/tweetdeck\" rel=\"nofollow\">TweetDeck</a>','TweetDeck')"
   ]
  },
  {
   "cell_type": "markdown",
   "metadata": {},
   "source": [
    "#### Test"
   ]
  },
  {
   "cell_type": "code",
   "execution_count": 23,
   "metadata": {},
   "outputs": [
    {
     "data": {
      "text/plain": [
       "Twitter for iPhone     2221\n",
       "Vine - Make a Scene    91  \n",
       "Twitter Web Client     33  \n",
       "TweetDeck              11  \n",
       "Name: source, dtype: int64"
      ]
     },
     "execution_count": 23,
     "metadata": {},
     "output_type": "execute_result"
    }
   ],
   "source": [
    "archived_data.source.value_counts()"
   ]
  },
  {
   "cell_type": "markdown",
   "metadata": {},
   "source": [
    "### Issue #9:\n",
    "In the image_data table, we dont need the 'img_num' column. Hence, we cam remove that column for the table\n",
    "#### Define\n",
    "Using the drop method to drop the img_num column from the table\n",
    "\n",
    "#### Code"
   ]
  },
  {
   "cell_type": "code",
   "execution_count": 24,
   "metadata": {},
   "outputs": [],
   "source": [
    "image_data= image_data.drop(['img_num'], axis=1)"
   ]
  },
  {
   "cell_type": "markdown",
   "metadata": {},
   "source": [
    "#### Test"
   ]
  },
  {
   "cell_type": "code",
   "execution_count": 25,
   "metadata": {
    "scrolled": true
   },
   "outputs": [
    {
     "data": {
      "text/html": [
       "<div>\n",
       "<style scoped>\n",
       "    .dataframe tbody tr th:only-of-type {\n",
       "        vertical-align: middle;\n",
       "    }\n",
       "\n",
       "    .dataframe tbody tr th {\n",
       "        vertical-align: top;\n",
       "    }\n",
       "\n",
       "    .dataframe thead th {\n",
       "        text-align: right;\n",
       "    }\n",
       "</style>\n",
       "<table border=\"1\" class=\"dataframe\">\n",
       "  <thead>\n",
       "    <tr style=\"text-align: right;\">\n",
       "      <th></th>\n",
       "      <th>tweet_id</th>\n",
       "      <th>jpg_url</th>\n",
       "      <th>p1</th>\n",
       "      <th>p1_conf</th>\n",
       "      <th>p1_dog</th>\n",
       "      <th>p2</th>\n",
       "      <th>p2_conf</th>\n",
       "      <th>p2_dog</th>\n",
       "      <th>p3</th>\n",
       "      <th>p3_conf</th>\n",
       "      <th>p3_dog</th>\n",
       "    </tr>\n",
       "  </thead>\n",
       "  <tbody>\n",
       "    <tr>\n",
       "      <th>1819</th>\n",
       "      <td>834209720923721728</td>\n",
       "      <td>https://pbs.twimg.com/media/C5O1UAaWIAAMBMd.jpg</td>\n",
       "      <td>golden_retriever</td>\n",
       "      <td>0.754799</td>\n",
       "      <td>True</td>\n",
       "      <td>Pekinese</td>\n",
       "      <td>0.197861</td>\n",
       "      <td>True</td>\n",
       "      <td>Labrador_retriever</td>\n",
       "      <td>0.008654</td>\n",
       "      <td>True</td>\n",
       "    </tr>\n",
       "    <tr>\n",
       "      <th>1366</th>\n",
       "      <td>761672994376806400</td>\n",
       "      <td>https://pbs.twimg.com/ext_tw_video_thumb/761672828462718981/pu/img/R00UYAAWB3GtuHdI.jpg</td>\n",
       "      <td>gondola</td>\n",
       "      <td>0.318851</td>\n",
       "      <td>False</td>\n",
       "      <td>sea_lion</td>\n",
       "      <td>0.306525</td>\n",
       "      <td>False</td>\n",
       "      <td>pool_table</td>\n",
       "      <td>0.111565</td>\n",
       "      <td>False</td>\n",
       "    </tr>\n",
       "  </tbody>\n",
       "</table>\n",
       "</div>"
      ],
      "text/plain": [
       "                tweet_id  \\\n",
       "1819  834209720923721728   \n",
       "1366  761672994376806400   \n",
       "\n",
       "                                                                                      jpg_url  \\\n",
       "1819  https://pbs.twimg.com/media/C5O1UAaWIAAMBMd.jpg                                           \n",
       "1366  https://pbs.twimg.com/ext_tw_video_thumb/761672828462718981/pu/img/R00UYAAWB3GtuHdI.jpg   \n",
       "\n",
       "                    p1   p1_conf  p1_dog        p2   p2_conf  p2_dog  \\\n",
       "1819  golden_retriever  0.754799  True    Pekinese  0.197861  True     \n",
       "1366  gondola           0.318851  False   sea_lion  0.306525  False    \n",
       "\n",
       "                      p3   p3_conf  p3_dog  \n",
       "1819  Labrador_retriever  0.008654  True    \n",
       "1366  pool_table          0.111565  False   "
      ]
     },
     "execution_count": 25,
     "metadata": {},
     "output_type": "execute_result"
    }
   ],
   "source": [
    "image_data.sample(2)"
   ]
  },
  {
   "cell_type": "markdown",
   "metadata": {},
   "source": [
    "### Issue #10:\n",
    "Remove duplicated rows from the jpg_url column in the 'image_data' table\n",
    "#### Define\n",
    "use drop_duplicates() method to drop the duplicated rows from the 'jpg_url' column\n",
    "\n",
    "#### Code"
   ]
  },
  {
   "cell_type": "code",
   "execution_count": 26,
   "metadata": {},
   "outputs": [],
   "source": [
    "image_data= image_data.drop_duplicates(subset =\"jpg_url\",\n",
    "                     keep = False)"
   ]
  },
  {
   "cell_type": "markdown",
   "metadata": {},
   "source": [
    "#### Test"
   ]
  },
  {
   "cell_type": "code",
   "execution_count": 27,
   "metadata": {},
   "outputs": [
    {
     "data": {
      "text/plain": [
       "0"
      ]
     },
     "execution_count": 27,
     "metadata": {},
     "output_type": "execute_result"
    }
   ],
   "source": [
    "image_data.jpg_url.duplicated().sum()"
   ]
  },
  {
   "cell_type": "markdown",
   "metadata": {},
   "source": [
    "### Tidiness issues\n",
    "1.\t'twitter_id' column in the 'json_data' table is in object format. Convert it to 'int'\n",
    "2.\tChange the column name from twitter_id to tweet_id\n",
    "3.\tOnly keep the rows where p1_dog, p2_dog and p3_dog is true in the image_data table\n",
    "4.\tChange the column name of the respective columns from the image_data table: (p1, p1_conf, p1_dog, p2, p2_conf, p2_dog, p3\tp3_conf, p3_dog). Making these column names descriptive would be easier for the reader to grasp what these column titles intend to mean.\n",
    "5.\tIn the image_data data frame, column: p1,p2 and p3 include the name of the dogs in lower and uppercase letters.\n",
    "6.\tMerging tables based on tweet_id as this column exists in all the tables\n"
   ]
  },
  {
   "cell_type": "markdown",
   "metadata": {},
   "source": [
    "### Issue #1:\n",
    "'twitter_id' column in the 'json_data' table is in object format, convert it to 'int'\n",
    "#### Define\n",
    "Use the 'astype('int64')' method on 'twitter_id' column of 'json_data' table\n",
    "\n",
    "#### Code"
   ]
  },
  {
   "cell_type": "code",
   "execution_count": 28,
   "metadata": {},
   "outputs": [],
   "source": [
    "json_data['twitter_id'] = json_data['twitter_id'].astype('int64')"
   ]
  },
  {
   "cell_type": "markdown",
   "metadata": {},
   "source": [
    "#### Test"
   ]
  },
  {
   "cell_type": "code",
   "execution_count": 29,
   "metadata": {},
   "outputs": [
    {
     "name": "stdout",
     "output_type": "stream",
     "text": [
      "<class 'pandas.core.frame.DataFrame'>\n",
      "RangeIndex: 2354 entries, 0 to 2353\n",
      "Data columns (total 3 columns):\n",
      " #   Column          Non-Null Count  Dtype\n",
      "---  ------          --------------  -----\n",
      " 0   twitter_id      2354 non-null   int64\n",
      " 1   retweet_count   2354 non-null   int64\n",
      " 2   favorite_count  2354 non-null   int64\n",
      "dtypes: int64(3)\n",
      "memory usage: 55.3 KB\n"
     ]
    }
   ],
   "source": [
    "json_data.info()"
   ]
  },
  {
   "cell_type": "markdown",
   "metadata": {},
   "source": [
    "### Issue #2:\n",
    "Change the column name from twitter_id to tweet_id\n",
    "#### Define\n",
    "Using the dataframe.rename function\n",
    "\n",
    "#### Code"
   ]
  },
  {
   "cell_type": "code",
   "execution_count": 30,
   "metadata": {},
   "outputs": [],
   "source": [
    "json_data.rename(columns={'twitter_id': 'tweet_id'},inplace= True)"
   ]
  },
  {
   "cell_type": "markdown",
   "metadata": {},
   "source": [
    "#### Test"
   ]
  },
  {
   "cell_type": "code",
   "execution_count": 31,
   "metadata": {},
   "outputs": [
    {
     "name": "stdout",
     "output_type": "stream",
     "text": [
      "<class 'pandas.core.frame.DataFrame'>\n",
      "RangeIndex: 2354 entries, 0 to 2353\n",
      "Data columns (total 3 columns):\n",
      " #   Column          Non-Null Count  Dtype\n",
      "---  ------          --------------  -----\n",
      " 0   tweet_id        2354 non-null   int64\n",
      " 1   retweet_count   2354 non-null   int64\n",
      " 2   favorite_count  2354 non-null   int64\n",
      "dtypes: int64(3)\n",
      "memory usage: 55.3 KB\n"
     ]
    }
   ],
   "source": [
    "json_data.info()"
   ]
  },
  {
   "cell_type": "markdown",
   "metadata": {},
   "source": [
    "### Issue #3:\n",
    "Only keep the rows where p1_dog, p2_dog and p3_dog is true in the image_data table\n",
    "#### Define\n",
    "Selecting all the rows (p1_dog, p2_dog and p3_dog) where their values were true\n",
    "\n",
    "#### Code"
   ]
  },
  {
   "cell_type": "code",
   "execution_count": 32,
   "metadata": {},
   "outputs": [],
   "source": [
    "image_data= image_data [((image_data['p1_dog']== True) & (image_data['p2_dog']== True) & (image_data['p3_dog']== True))]"
   ]
  },
  {
   "cell_type": "markdown",
   "metadata": {},
   "source": [
    "#### Test"
   ]
  },
  {
   "cell_type": "code",
   "execution_count": 33,
   "metadata": {},
   "outputs": [
    {
     "data": {
      "text/html": [
       "<div>\n",
       "<style scoped>\n",
       "    .dataframe tbody tr th:only-of-type {\n",
       "        vertical-align: middle;\n",
       "    }\n",
       "\n",
       "    .dataframe tbody tr th {\n",
       "        vertical-align: top;\n",
       "    }\n",
       "\n",
       "    .dataframe thead th {\n",
       "        text-align: right;\n",
       "    }\n",
       "</style>\n",
       "<table border=\"1\" class=\"dataframe\">\n",
       "  <thead>\n",
       "    <tr style=\"text-align: right;\">\n",
       "      <th></th>\n",
       "      <th>tweet_id</th>\n",
       "      <th>jpg_url</th>\n",
       "      <th>p1</th>\n",
       "      <th>p1_conf</th>\n",
       "      <th>p1_dog</th>\n",
       "      <th>p2</th>\n",
       "      <th>p2_conf</th>\n",
       "      <th>p2_dog</th>\n",
       "      <th>p3</th>\n",
       "      <th>p3_conf</th>\n",
       "      <th>p3_dog</th>\n",
       "    </tr>\n",
       "  </thead>\n",
       "  <tbody>\n",
       "  </tbody>\n",
       "</table>\n",
       "</div>"
      ],
      "text/plain": [
       "Empty DataFrame\n",
       "Columns: [tweet_id, jpg_url, p1, p1_conf, p1_dog, p2, p2_conf, p2_dog, p3, p3_conf, p3_dog]\n",
       "Index: []"
      ]
     },
     "execution_count": 33,
     "metadata": {},
     "output_type": "execute_result"
    }
   ],
   "source": [
    "image_data [((image_data['p1_dog']== False) & (image_data['p2_dog']== False) & (image_data['p3_dog']== False))]"
   ]
  },
  {
   "cell_type": "markdown",
   "metadata": {},
   "source": [
    "### Issue #4:\n",
    "Change the column name of the respective columns from the image_data table: (p1, p1_conf, p1_dog, p2, p2_conf, p2_dog, p3\tp3_conf, p3_dog). By making these column names descriptive it would be easier for the reader to grasp what these column title intend to mean. \n",
    "#### Define\n",
    "Using the df_rename function on these columns (p1, p1_conf, p1_dog, p2, p2_conf, p2_dog, p3, p3_conf, p3_dog) and change them as follows:\n",
    "p1 to prediction_1,\n",
    "p2 to prediction_2,\n",
    "p3 to prediction_3,\n",
    "p1_conf to confidence_1,\n",
    "p2_conf to confidence_2,\n",
    "p3_conf to confidence_3,\n",
    "p1_dog to confidence_result_1,\n",
    "p2_dog to confidence_result_2,\n",
    "p3_dog to confidence_result_3\n",
    "\n",
    "#### Code"
   ]
  },
  {
   "cell_type": "code",
   "execution_count": 34,
   "metadata": {},
   "outputs": [],
   "source": [
    "image_data.rename(columns={'p1': 'prediction_1','p2': 'prediction_2', 'p3': 'prediction_3',\n",
    "                          'p1_conf': 'confidence_1','p2_conf': 'confidence_2','p3_conf': 'confidence_3',\n",
    "                          'p1_dog': 'confidence_result_1', 'p2_dog': 'confidence_result_2','p3_dog': 'confidence_result_3'},inplace= True)"
   ]
  },
  {
   "cell_type": "code",
   "execution_count": 35,
   "metadata": {},
   "outputs": [
    {
     "data": {
      "text/html": [
       "<div>\n",
       "<style scoped>\n",
       "    .dataframe tbody tr th:only-of-type {\n",
       "        vertical-align: middle;\n",
       "    }\n",
       "\n",
       "    .dataframe tbody tr th {\n",
       "        vertical-align: top;\n",
       "    }\n",
       "\n",
       "    .dataframe thead th {\n",
       "        text-align: right;\n",
       "    }\n",
       "</style>\n",
       "<table border=\"1\" class=\"dataframe\">\n",
       "  <thead>\n",
       "    <tr style=\"text-align: right;\">\n",
       "      <th></th>\n",
       "      <th>tweet_id</th>\n",
       "      <th>jpg_url</th>\n",
       "      <th>prediction_1</th>\n",
       "      <th>confidence_1</th>\n",
       "      <th>confidence_result_1</th>\n",
       "      <th>prediction_2</th>\n",
       "      <th>confidence_2</th>\n",
       "      <th>confidence_result_2</th>\n",
       "      <th>prediction_3</th>\n",
       "      <th>confidence_3</th>\n",
       "      <th>confidence_result_3</th>\n",
       "    </tr>\n",
       "  </thead>\n",
       "  <tbody>\n",
       "    <tr>\n",
       "      <th>0</th>\n",
       "      <td>666020888022790149</td>\n",
       "      <td>https://pbs.twimg.com/media/CT4udn0WwAA0aMy.jpg</td>\n",
       "      <td>Welsh_springer_spaniel</td>\n",
       "      <td>0.465074</td>\n",
       "      <td>True</td>\n",
       "      <td>collie</td>\n",
       "      <td>0.156665</td>\n",
       "      <td>True</td>\n",
       "      <td>Shetland_sheepdog</td>\n",
       "      <td>0.061428</td>\n",
       "      <td>True</td>\n",
       "    </tr>\n",
       "    <tr>\n",
       "      <th>1</th>\n",
       "      <td>666029285002620928</td>\n",
       "      <td>https://pbs.twimg.com/media/CT42GRgUYAA5iDo.jpg</td>\n",
       "      <td>redbone</td>\n",
       "      <td>0.506826</td>\n",
       "      <td>True</td>\n",
       "      <td>miniature_pinscher</td>\n",
       "      <td>0.074192</td>\n",
       "      <td>True</td>\n",
       "      <td>Rhodesian_ridgeback</td>\n",
       "      <td>0.072010</td>\n",
       "      <td>True</td>\n",
       "    </tr>\n",
       "    <tr>\n",
       "      <th>2</th>\n",
       "      <td>666033412701032449</td>\n",
       "      <td>https://pbs.twimg.com/media/CT4521TWwAEvMyu.jpg</td>\n",
       "      <td>German_shepherd</td>\n",
       "      <td>0.596461</td>\n",
       "      <td>True</td>\n",
       "      <td>malinois</td>\n",
       "      <td>0.138584</td>\n",
       "      <td>True</td>\n",
       "      <td>bloodhound</td>\n",
       "      <td>0.116197</td>\n",
       "      <td>True</td>\n",
       "    </tr>\n",
       "    <tr>\n",
       "      <th>3</th>\n",
       "      <td>666044226329800704</td>\n",
       "      <td>https://pbs.twimg.com/media/CT5Dr8HUEAA-lEu.jpg</td>\n",
       "      <td>Rhodesian_ridgeback</td>\n",
       "      <td>0.408143</td>\n",
       "      <td>True</td>\n",
       "      <td>redbone</td>\n",
       "      <td>0.360687</td>\n",
       "      <td>True</td>\n",
       "      <td>miniature_pinscher</td>\n",
       "      <td>0.222752</td>\n",
       "      <td>True</td>\n",
       "    </tr>\n",
       "    <tr>\n",
       "      <th>4</th>\n",
       "      <td>666049248165822465</td>\n",
       "      <td>https://pbs.twimg.com/media/CT5IQmsXIAAKY4A.jpg</td>\n",
       "      <td>miniature_pinscher</td>\n",
       "      <td>0.560311</td>\n",
       "      <td>True</td>\n",
       "      <td>Rottweiler</td>\n",
       "      <td>0.243682</td>\n",
       "      <td>True</td>\n",
       "      <td>Doberman</td>\n",
       "      <td>0.154629</td>\n",
       "      <td>True</td>\n",
       "    </tr>\n",
       "    <tr>\n",
       "      <th>...</th>\n",
       "      <td>...</td>\n",
       "      <td>...</td>\n",
       "      <td>...</td>\n",
       "      <td>...</td>\n",
       "      <td>...</td>\n",
       "      <td>...</td>\n",
       "      <td>...</td>\n",
       "      <td>...</td>\n",
       "      <td>...</td>\n",
       "      <td>...</td>\n",
       "      <td>...</td>\n",
       "    </tr>\n",
       "    <tr>\n",
       "      <th>2066</th>\n",
       "      <td>890609185150312448</td>\n",
       "      <td>https://pbs.twimg.com/media/DFwUU__XcAEpyXI.jpg</td>\n",
       "      <td>Irish_terrier</td>\n",
       "      <td>0.487574</td>\n",
       "      <td>True</td>\n",
       "      <td>Irish_setter</td>\n",
       "      <td>0.193054</td>\n",
       "      <td>True</td>\n",
       "      <td>Chesapeake_Bay_retriever</td>\n",
       "      <td>0.118184</td>\n",
       "      <td>True</td>\n",
       "    </tr>\n",
       "    <tr>\n",
       "      <th>2067</th>\n",
       "      <td>890729181411237888</td>\n",
       "      <td>https://pbs.twimg.com/media/DFyBahAVwAAhUTd.jpg</td>\n",
       "      <td>Pomeranian</td>\n",
       "      <td>0.566142</td>\n",
       "      <td>True</td>\n",
       "      <td>Eskimo_dog</td>\n",
       "      <td>0.178406</td>\n",
       "      <td>True</td>\n",
       "      <td>Pembroke</td>\n",
       "      <td>0.076507</td>\n",
       "      <td>True</td>\n",
       "    </tr>\n",
       "    <tr>\n",
       "      <th>2070</th>\n",
       "      <td>891327558926688256</td>\n",
       "      <td>https://pbs.twimg.com/media/DF6hr6BUMAAzZgT.jpg</td>\n",
       "      <td>basset</td>\n",
       "      <td>0.555712</td>\n",
       "      <td>True</td>\n",
       "      <td>English_springer</td>\n",
       "      <td>0.225770</td>\n",
       "      <td>True</td>\n",
       "      <td>German_short-haired_pointer</td>\n",
       "      <td>0.175219</td>\n",
       "      <td>True</td>\n",
       "    </tr>\n",
       "    <tr>\n",
       "      <th>2072</th>\n",
       "      <td>891815181378084864</td>\n",
       "      <td>https://pbs.twimg.com/media/DGBdLU1WsAANxJ9.jpg</td>\n",
       "      <td>Chihuahua</td>\n",
       "      <td>0.716012</td>\n",
       "      <td>True</td>\n",
       "      <td>malamute</td>\n",
       "      <td>0.078253</td>\n",
       "      <td>True</td>\n",
       "      <td>kelpie</td>\n",
       "      <td>0.031379</td>\n",
       "      <td>True</td>\n",
       "    </tr>\n",
       "    <tr>\n",
       "      <th>2073</th>\n",
       "      <td>892177421306343426</td>\n",
       "      <td>https://pbs.twimg.com/media/DGGmoV4XsAAUL6n.jpg</td>\n",
       "      <td>Chihuahua</td>\n",
       "      <td>0.323581</td>\n",
       "      <td>True</td>\n",
       "      <td>Pekinese</td>\n",
       "      <td>0.090647</td>\n",
       "      <td>True</td>\n",
       "      <td>papillon</td>\n",
       "      <td>0.068957</td>\n",
       "      <td>True</td>\n",
       "    </tr>\n",
       "  </tbody>\n",
       "</table>\n",
       "<p>1169 rows × 11 columns</p>\n",
       "</div>"
      ],
      "text/plain": [
       "                tweet_id                                          jpg_url  \\\n",
       "0     666020888022790149  https://pbs.twimg.com/media/CT4udn0WwAA0aMy.jpg   \n",
       "1     666029285002620928  https://pbs.twimg.com/media/CT42GRgUYAA5iDo.jpg   \n",
       "2     666033412701032449  https://pbs.twimg.com/media/CT4521TWwAEvMyu.jpg   \n",
       "3     666044226329800704  https://pbs.twimg.com/media/CT5Dr8HUEAA-lEu.jpg   \n",
       "4     666049248165822465  https://pbs.twimg.com/media/CT5IQmsXIAAKY4A.jpg   \n",
       "...                  ...                                              ...   \n",
       "2066  890609185150312448  https://pbs.twimg.com/media/DFwUU__XcAEpyXI.jpg   \n",
       "2067  890729181411237888  https://pbs.twimg.com/media/DFyBahAVwAAhUTd.jpg   \n",
       "2070  891327558926688256  https://pbs.twimg.com/media/DF6hr6BUMAAzZgT.jpg   \n",
       "2072  891815181378084864  https://pbs.twimg.com/media/DGBdLU1WsAANxJ9.jpg   \n",
       "2073  892177421306343426  https://pbs.twimg.com/media/DGGmoV4XsAAUL6n.jpg   \n",
       "\n",
       "                prediction_1  confidence_1  confidence_result_1  \\\n",
       "0     Welsh_springer_spaniel  0.465074      True                  \n",
       "1     redbone                 0.506826      True                  \n",
       "2     German_shepherd         0.596461      True                  \n",
       "3     Rhodesian_ridgeback     0.408143      True                  \n",
       "4     miniature_pinscher      0.560311      True                  \n",
       "...                  ...           ...       ...                  \n",
       "2066  Irish_terrier           0.487574      True                  \n",
       "2067  Pomeranian              0.566142      True                  \n",
       "2070  basset                  0.555712      True                  \n",
       "2072  Chihuahua               0.716012      True                  \n",
       "2073  Chihuahua               0.323581      True                  \n",
       "\n",
       "            prediction_2  confidence_2  confidence_result_2  \\\n",
       "0     collie              0.156665      True                  \n",
       "1     miniature_pinscher  0.074192      True                  \n",
       "2     malinois            0.138584      True                  \n",
       "3     redbone             0.360687      True                  \n",
       "4     Rottweiler          0.243682      True                  \n",
       "...          ...               ...       ...                  \n",
       "2066  Irish_setter        0.193054      True                  \n",
       "2067  Eskimo_dog          0.178406      True                  \n",
       "2070  English_springer    0.225770      True                  \n",
       "2072  malamute            0.078253      True                  \n",
       "2073  Pekinese            0.090647      True                  \n",
       "\n",
       "                     prediction_3  confidence_3  confidence_result_3  \n",
       "0     Shetland_sheepdog            0.061428      True                 \n",
       "1     Rhodesian_ridgeback          0.072010      True                 \n",
       "2     bloodhound                   0.116197      True                 \n",
       "3     miniature_pinscher           0.222752      True                 \n",
       "4     Doberman                     0.154629      True                 \n",
       "...        ...                          ...       ...                 \n",
       "2066  Chesapeake_Bay_retriever     0.118184      True                 \n",
       "2067  Pembroke                     0.076507      True                 \n",
       "2070  German_short-haired_pointer  0.175219      True                 \n",
       "2072  kelpie                       0.031379      True                 \n",
       "2073  papillon                     0.068957      True                 \n",
       "\n",
       "[1169 rows x 11 columns]"
      ]
     },
     "execution_count": 35,
     "metadata": {},
     "output_type": "execute_result"
    }
   ],
   "source": [
    "image_data"
   ]
  },
  {
   "cell_type": "markdown",
   "metadata": {},
   "source": [
    "### Issue #5:\n",
    "In the image_data dataframe, column: p1,p2 and p3 include the name of the dogs in lower and uppercase letter.\n",
    "#### Define\n",
    "Capitalize the very first letter of all dogs' name in those columns using the str.title() method. \n",
    "\n",
    "#### Code"
   ]
  },
  {
   "cell_type": "code",
   "execution_count": 36,
   "metadata": {},
   "outputs": [],
   "source": [
    "image_data ['prediction_1'] = image_data ['prediction_1'].str.title()\n",
    "image_data ['prediction_2'] = image_data ['prediction_2'].str.title()\n",
    "image_data ['prediction_3'] = image_data ['prediction_3'].str.title()"
   ]
  },
  {
   "cell_type": "markdown",
   "metadata": {},
   "source": [
    "#### Test"
   ]
  },
  {
   "cell_type": "code",
   "execution_count": 37,
   "metadata": {},
   "outputs": [
    {
     "data": {
      "text/plain": [
       "0       Shetland_Sheepdog          \n",
       "1       Rhodesian_Ridgeback        \n",
       "2       Bloodhound                 \n",
       "3       Miniature_Pinscher         \n",
       "4       Doberman                   \n",
       "          ...                      \n",
       "2066    Chesapeake_Bay_Retriever   \n",
       "2067    Pembroke                   \n",
       "2070    German_Short-Haired_Pointer\n",
       "2072    Kelpie                     \n",
       "2073    Papillon                   \n",
       "Name: prediction_3, Length: 1169, dtype: object"
      ]
     },
     "execution_count": 37,
     "metadata": {},
     "output_type": "execute_result"
    }
   ],
   "source": [
    "image_data ['prediction_1']\n",
    "image_data ['prediction_2']\n",
    "image_data ['prediction_3']\n"
   ]
  },
  {
   "cell_type": "markdown",
   "metadata": {},
   "source": [
    "### Issue #6:\n",
    "Merging tables together based on tweet_id as this column exist in all the tables\n",
    "#### Define\n",
    "using the pd.merge () to merge the tables together\n",
    "\n",
    "#### Code"
   ]
  },
  {
   "cell_type": "code",
   "execution_count": 38,
   "metadata": {},
   "outputs": [],
   "source": [
    "we_rate_dogs= archived_data.merge(image_data, on='tweet_id')\n"
   ]
  },
  {
   "cell_type": "code",
   "execution_count": 39,
   "metadata": {},
   "outputs": [],
   "source": [
    "we_rate_dogs_data=we_rate_dogs.merge(json_data, on='tweet_id')"
   ]
  },
  {
   "cell_type": "markdown",
   "metadata": {},
   "source": [
    "#### Test"
   ]
  },
  {
   "cell_type": "code",
   "execution_count": 40,
   "metadata": {},
   "outputs": [
    {
     "name": "stdout",
     "output_type": "stream",
     "text": [
      "<class 'pandas.core.frame.DataFrame'>\n",
      "Int64Index: 1169 entries, 0 to 1168\n",
      "Data columns (total 23 columns):\n",
      " #   Column               Non-Null Count  Dtype  \n",
      "---  ------               --------------  -----  \n",
      " 0   tweet_id             1169 non-null   int64  \n",
      " 1   source               1169 non-null   object \n",
      " 2   text                 1169 non-null   object \n",
      " 3   rating_numerator     1169 non-null   int64  \n",
      " 4   rating_denominator   1169 non-null   int64  \n",
      " 5   name                 1169 non-null   object \n",
      " 6   year                 1169 non-null   int64  \n",
      " 7   time                 1169 non-null   object \n",
      " 8   month                1169 non-null   int64  \n",
      " 9   day                  1169 non-null   int64  \n",
      " 10  breed                1169 non-null   object \n",
      " 11  jpg_url              1169 non-null   object \n",
      " 12  prediction_1         1169 non-null   object \n",
      " 13  confidence_1         1169 non-null   float64\n",
      " 14  confidence_result_1  1169 non-null   bool   \n",
      " 15  prediction_2         1169 non-null   object \n",
      " 16  confidence_2         1169 non-null   float64\n",
      " 17  confidence_result_2  1169 non-null   bool   \n",
      " 18  prediction_3         1169 non-null   object \n",
      " 19  confidence_3         1169 non-null   float64\n",
      " 20  confidence_result_3  1169 non-null   bool   \n",
      " 21  retweet_count        1169 non-null   int64  \n",
      " 22  favorite_count       1169 non-null   int64  \n",
      "dtypes: bool(3), float64(3), int64(8), object(9)\n",
      "memory usage: 195.2+ KB\n"
     ]
    }
   ],
   "source": [
    "we_rate_dogs_data.info()"
   ]
  },
  {
   "cell_type": "markdown",
   "metadata": {},
   "source": [
    "## Storing Data\n",
    "Save gathered, assessed, and cleaned master dataset to a CSV file named \"twitter_archive_master.csv\"."
   ]
  },
  {
   "cell_type": "code",
   "execution_count": 41,
   "metadata": {},
   "outputs": [],
   "source": [
    "we_rate_dogs_data.to_csv(\"twitter_archive_master.csv\")"
   ]
  },
  {
   "cell_type": "markdown",
   "metadata": {},
   "source": [
    "#### Test"
   ]
  },
  {
   "cell_type": "code",
   "execution_count": 42,
   "metadata": {},
   "outputs": [
    {
     "data": {
      "text/html": [
       "<div>\n",
       "<style scoped>\n",
       "    .dataframe tbody tr th:only-of-type {\n",
       "        vertical-align: middle;\n",
       "    }\n",
       "\n",
       "    .dataframe tbody tr th {\n",
       "        vertical-align: top;\n",
       "    }\n",
       "\n",
       "    .dataframe thead th {\n",
       "        text-align: right;\n",
       "    }\n",
       "</style>\n",
       "<table border=\"1\" class=\"dataframe\">\n",
       "  <thead>\n",
       "    <tr style=\"text-align: right;\">\n",
       "      <th></th>\n",
       "      <th>Unnamed: 0</th>\n",
       "      <th>tweet_id</th>\n",
       "      <th>source</th>\n",
       "      <th>text</th>\n",
       "      <th>rating_numerator</th>\n",
       "      <th>rating_denominator</th>\n",
       "      <th>name</th>\n",
       "      <th>year</th>\n",
       "      <th>time</th>\n",
       "      <th>month</th>\n",
       "      <th>...</th>\n",
       "      <th>confidence_1</th>\n",
       "      <th>confidence_result_1</th>\n",
       "      <th>prediction_2</th>\n",
       "      <th>confidence_2</th>\n",
       "      <th>confidence_result_2</th>\n",
       "      <th>prediction_3</th>\n",
       "      <th>confidence_3</th>\n",
       "      <th>confidence_result_3</th>\n",
       "      <th>retweet_count</th>\n",
       "      <th>favorite_count</th>\n",
       "    </tr>\n",
       "  </thead>\n",
       "  <tbody>\n",
       "    <tr>\n",
       "      <th>0</th>\n",
       "      <td>0</td>\n",
       "      <td>892177421306343426</td>\n",
       "      <td>Twitter for iPhone</td>\n",
       "      <td>This is Tilly. She's just checking pup on you. Hopes you're doing ok. If not, she's available for pats, snugs, boops, the whole bit.</td>\n",
       "      <td>13</td>\n",
       "      <td>10</td>\n",
       "      <td>Tilly</td>\n",
       "      <td>2017</td>\n",
       "      <td>00:17:27</td>\n",
       "      <td>8</td>\n",
       "      <td>...</td>\n",
       "      <td>0.323581</td>\n",
       "      <td>True</td>\n",
       "      <td>Pekinese</td>\n",
       "      <td>0.090647</td>\n",
       "      <td>True</td>\n",
       "      <td>Papillon</td>\n",
       "      <td>0.068957</td>\n",
       "      <td>True</td>\n",
       "      <td>6514</td>\n",
       "      <td>33819</td>\n",
       "    </tr>\n",
       "    <tr>\n",
       "      <th>1</th>\n",
       "      <td>1</td>\n",
       "      <td>891815181378084864</td>\n",
       "      <td>Twitter for iPhone</td>\n",
       "      <td>This is Archie. He is a rare Norwegian Pouncing Corgo. Lives in the tall grass. You never know when one may strike.</td>\n",
       "      <td>12</td>\n",
       "      <td>10</td>\n",
       "      <td>Archie</td>\n",
       "      <td>2017</td>\n",
       "      <td>00:18:03</td>\n",
       "      <td>7</td>\n",
       "      <td>...</td>\n",
       "      <td>0.716012</td>\n",
       "      <td>True</td>\n",
       "      <td>Malamute</td>\n",
       "      <td>0.078253</td>\n",
       "      <td>True</td>\n",
       "      <td>Kelpie</td>\n",
       "      <td>0.031379</td>\n",
       "      <td>True</td>\n",
       "      <td>4328</td>\n",
       "      <td>25461</td>\n",
       "    </tr>\n",
       "    <tr>\n",
       "      <th>2</th>\n",
       "      <td>2</td>\n",
       "      <td>891327558926688256</td>\n",
       "      <td>Twitter for iPhone</td>\n",
       "      <td>This is Franklin. He would like you to stop calling him \"cute.\" He is a very fierce shark and should be respected as such.</td>\n",
       "      <td>12</td>\n",
       "      <td>10</td>\n",
       "      <td>Franklin</td>\n",
       "      <td>2017</td>\n",
       "      <td>16:00:24</td>\n",
       "      <td>7</td>\n",
       "      <td>...</td>\n",
       "      <td>0.555712</td>\n",
       "      <td>True</td>\n",
       "      <td>English_Springer</td>\n",
       "      <td>0.225770</td>\n",
       "      <td>True</td>\n",
       "      <td>German_Short-Haired_Pointer</td>\n",
       "      <td>0.175219</td>\n",
       "      <td>True</td>\n",
       "      <td>9774</td>\n",
       "      <td>41048</td>\n",
       "    </tr>\n",
       "    <tr>\n",
       "      <th>3</th>\n",
       "      <td>3</td>\n",
       "      <td>890729181411237888</td>\n",
       "      <td>Twitter for iPhone</td>\n",
       "      <td>When you watch your owner call another dog a good boy but then they turn back to you and say you're a great boy.</td>\n",
       "      <td>13</td>\n",
       "      <td>10</td>\n",
       "      <td>NaN</td>\n",
       "      <td>2017</td>\n",
       "      <td>00:22:40</td>\n",
       "      <td>7</td>\n",
       "      <td>...</td>\n",
       "      <td>0.566142</td>\n",
       "      <td>True</td>\n",
       "      <td>Eskimo_Dog</td>\n",
       "      <td>0.178406</td>\n",
       "      <td>True</td>\n",
       "      <td>Pembroke</td>\n",
       "      <td>0.076507</td>\n",
       "      <td>True</td>\n",
       "      <td>16716</td>\n",
       "      <td>56848</td>\n",
       "    </tr>\n",
       "    <tr>\n",
       "      <th>4</th>\n",
       "      <td>4</td>\n",
       "      <td>890609185150312448</td>\n",
       "      <td>Twitter for iPhone</td>\n",
       "      <td>This is Zoey. She doesn't want to be one of the scary sharks. Just wants to be a snuggly pettable boatpet.</td>\n",
       "      <td>13</td>\n",
       "      <td>10</td>\n",
       "      <td>Zoey</td>\n",
       "      <td>2017</td>\n",
       "      <td>16:25:51</td>\n",
       "      <td>7</td>\n",
       "      <td>...</td>\n",
       "      <td>0.487574</td>\n",
       "      <td>True</td>\n",
       "      <td>Irish_Setter</td>\n",
       "      <td>0.193054</td>\n",
       "      <td>True</td>\n",
       "      <td>Chesapeake_Bay_Retriever</td>\n",
       "      <td>0.118184</td>\n",
       "      <td>True</td>\n",
       "      <td>4429</td>\n",
       "      <td>28226</td>\n",
       "    </tr>\n",
       "    <tr>\n",
       "      <th>...</th>\n",
       "      <td>...</td>\n",
       "      <td>...</td>\n",
       "      <td>...</td>\n",
       "      <td>...</td>\n",
       "      <td>...</td>\n",
       "      <td>...</td>\n",
       "      <td>...</td>\n",
       "      <td>...</td>\n",
       "      <td>...</td>\n",
       "      <td>...</td>\n",
       "      <td>...</td>\n",
       "      <td>...</td>\n",
       "      <td>...</td>\n",
       "      <td>...</td>\n",
       "      <td>...</td>\n",
       "      <td>...</td>\n",
       "      <td>...</td>\n",
       "      <td>...</td>\n",
       "      <td>...</td>\n",
       "      <td>...</td>\n",
       "      <td>...</td>\n",
       "    </tr>\n",
       "    <tr>\n",
       "      <th>1164</th>\n",
       "      <td>1164</td>\n",
       "      <td>666049248165822465</td>\n",
       "      <td>Twitter for iPhone</td>\n",
       "      <td>Here we have a 1949 1st generation vulpix. Enjoys sweat tea and Fox News. Cannot be phased.</td>\n",
       "      <td>5</td>\n",
       "      <td>10</td>\n",
       "      <td>NaN</td>\n",
       "      <td>2015</td>\n",
       "      <td>00:24:50</td>\n",
       "      <td>11</td>\n",
       "      <td>...</td>\n",
       "      <td>0.560311</td>\n",
       "      <td>True</td>\n",
       "      <td>Rottweiler</td>\n",
       "      <td>0.243682</td>\n",
       "      <td>True</td>\n",
       "      <td>Doberman</td>\n",
       "      <td>0.154629</td>\n",
       "      <td>True</td>\n",
       "      <td>41</td>\n",
       "      <td>111</td>\n",
       "    </tr>\n",
       "    <tr>\n",
       "      <th>1165</th>\n",
       "      <td>1165</td>\n",
       "      <td>666044226329800704</td>\n",
       "      <td>Twitter for iPhone</td>\n",
       "      <td>This is a purebred Piers Morgan. Loves to Netflix and chill. Always looks like he forgot to unplug the iron.</td>\n",
       "      <td>6</td>\n",
       "      <td>10</td>\n",
       "      <td>NaN</td>\n",
       "      <td>2015</td>\n",
       "      <td>00:04:52</td>\n",
       "      <td>11</td>\n",
       "      <td>...</td>\n",
       "      <td>0.408143</td>\n",
       "      <td>True</td>\n",
       "      <td>Redbone</td>\n",
       "      <td>0.360687</td>\n",
       "      <td>True</td>\n",
       "      <td>Miniature_Pinscher</td>\n",
       "      <td>0.222752</td>\n",
       "      <td>True</td>\n",
       "      <td>147</td>\n",
       "      <td>311</td>\n",
       "    </tr>\n",
       "    <tr>\n",
       "      <th>1166</th>\n",
       "      <td>1166</td>\n",
       "      <td>666033412701032449</td>\n",
       "      <td>Twitter for iPhone</td>\n",
       "      <td>Here is a very happy pup. Big fan of well-maintained decks. Just look at that tongue.</td>\n",
       "      <td>9</td>\n",
       "      <td>10</td>\n",
       "      <td>NaN</td>\n",
       "      <td>2015</td>\n",
       "      <td>23:21:54</td>\n",
       "      <td>11</td>\n",
       "      <td>...</td>\n",
       "      <td>0.596461</td>\n",
       "      <td>True</td>\n",
       "      <td>Malinois</td>\n",
       "      <td>0.138584</td>\n",
       "      <td>True</td>\n",
       "      <td>Bloodhound</td>\n",
       "      <td>0.116197</td>\n",
       "      <td>True</td>\n",
       "      <td>47</td>\n",
       "      <td>128</td>\n",
       "    </tr>\n",
       "    <tr>\n",
       "      <th>1167</th>\n",
       "      <td>1167</td>\n",
       "      <td>666029285002620928</td>\n",
       "      <td>Twitter for iPhone</td>\n",
       "      <td>This is a western brown Mitsubishi terrier. Upset about leaf. Actually 2 dogs here.</td>\n",
       "      <td>7</td>\n",
       "      <td>10</td>\n",
       "      <td>NaN</td>\n",
       "      <td>2015</td>\n",
       "      <td>23:05:30</td>\n",
       "      <td>11</td>\n",
       "      <td>...</td>\n",
       "      <td>0.506826</td>\n",
       "      <td>True</td>\n",
       "      <td>Miniature_Pinscher</td>\n",
       "      <td>0.074192</td>\n",
       "      <td>True</td>\n",
       "      <td>Rhodesian_Ridgeback</td>\n",
       "      <td>0.072010</td>\n",
       "      <td>True</td>\n",
       "      <td>48</td>\n",
       "      <td>132</td>\n",
       "    </tr>\n",
       "    <tr>\n",
       "      <th>1168</th>\n",
       "      <td>1168</td>\n",
       "      <td>666020888022790149</td>\n",
       "      <td>Twitter for iPhone</td>\n",
       "      <td>Here we have a Japanese Irish Setter. Lost eye in Vietnam (?). Big fan of relaxing on stair.</td>\n",
       "      <td>8</td>\n",
       "      <td>10</td>\n",
       "      <td>NaN</td>\n",
       "      <td>2015</td>\n",
       "      <td>22:32:08</td>\n",
       "      <td>11</td>\n",
       "      <td>...</td>\n",
       "      <td>0.465074</td>\n",
       "      <td>True</td>\n",
       "      <td>Collie</td>\n",
       "      <td>0.156665</td>\n",
       "      <td>True</td>\n",
       "      <td>Shetland_Sheepdog</td>\n",
       "      <td>0.061428</td>\n",
       "      <td>True</td>\n",
       "      <td>532</td>\n",
       "      <td>2535</td>\n",
       "    </tr>\n",
       "  </tbody>\n",
       "</table>\n",
       "<p>1169 rows × 24 columns</p>\n",
       "</div>"
      ],
      "text/plain": [
       "      Unnamed: 0            tweet_id              source  \\\n",
       "0     0           892177421306343426  Twitter for iPhone   \n",
       "1     1           891815181378084864  Twitter for iPhone   \n",
       "2     2           891327558926688256  Twitter for iPhone   \n",
       "3     3           890729181411237888  Twitter for iPhone   \n",
       "4     4           890609185150312448  Twitter for iPhone   \n",
       "...  ..                          ...                 ...   \n",
       "1164  1164        666049248165822465  Twitter for iPhone   \n",
       "1165  1165        666044226329800704  Twitter for iPhone   \n",
       "1166  1166        666033412701032449  Twitter for iPhone   \n",
       "1167  1167        666029285002620928  Twitter for iPhone   \n",
       "1168  1168        666020888022790149  Twitter for iPhone   \n",
       "\n",
       "                                                                                                                                       text  \\\n",
       "0     This is Tilly. She's just checking pup on you. Hopes you're doing ok. If not, she's available for pats, snugs, boops, the whole bit.    \n",
       "1     This is Archie. He is a rare Norwegian Pouncing Corgo. Lives in the tall grass. You never know when one may strike.                     \n",
       "2     This is Franklin. He would like you to stop calling him \"cute.\" He is a very fierce shark and should be respected as such.              \n",
       "3     When you watch your owner call another dog a good boy but then they turn back to you and say you're a great boy.                        \n",
       "4     This is Zoey. She doesn't want to be one of the scary sharks. Just wants to be a snuggly pettable boatpet.                              \n",
       "...                                                                                                           ...                             \n",
       "1164  Here we have a 1949 1st generation vulpix. Enjoys sweat tea and Fox News. Cannot be phased.                                             \n",
       "1165  This is a purebred Piers Morgan. Loves to Netflix and chill. Always looks like he forgot to unplug the iron.                            \n",
       "1166  Here is a very happy pup. Big fan of well-maintained decks. Just look at that tongue.                                                   \n",
       "1167  This is a western brown Mitsubishi terrier. Upset about leaf. Actually 2 dogs here.                                                     \n",
       "1168  Here we have a Japanese Irish Setter. Lost eye in Vietnam (?). Big fan of relaxing on stair.                                            \n",
       "\n",
       "      rating_numerator  rating_denominator      name  year      time  month  \\\n",
       "0     13                10                  Tilly     2017  00:17:27  8       \n",
       "1     12                10                  Archie    2017  00:18:03  7       \n",
       "2     12                10                  Franklin  2017  16:00:24  7       \n",
       "3     13                10                  NaN       2017  00:22:40  7       \n",
       "4     13                10                  Zoey      2017  16:25:51  7       \n",
       "...   ..                ..                   ...       ...       ... ..       \n",
       "1164  5                 10                  NaN       2015  00:24:50  11      \n",
       "1165  6                 10                  NaN       2015  00:04:52  11      \n",
       "1166  9                 10                  NaN       2015  23:21:54  11      \n",
       "1167  7                 10                  NaN       2015  23:05:30  11      \n",
       "1168  8                 10                  NaN       2015  22:32:08  11      \n",
       "\n",
       "      ...  confidence_1 confidence_result_1        prediction_2 confidence_2  \\\n",
       "0     ...  0.323581      True                Pekinese            0.090647      \n",
       "1     ...  0.716012      True                Malamute            0.078253      \n",
       "2     ...  0.555712      True                English_Springer    0.225770      \n",
       "3     ...  0.566142      True                Eskimo_Dog          0.178406      \n",
       "4     ...  0.487574      True                Irish_Setter        0.193054      \n",
       "...   ...       ...       ...                         ...             ...      \n",
       "1164  ...  0.560311      True                Rottweiler          0.243682      \n",
       "1165  ...  0.408143      True                Redbone             0.360687      \n",
       "1166  ...  0.596461      True                Malinois            0.138584      \n",
       "1167  ...  0.506826      True                Miniature_Pinscher  0.074192      \n",
       "1168  ...  0.465074      True                Collie              0.156665      \n",
       "\n",
       "      confidence_result_2                 prediction_3 confidence_3  \\\n",
       "0     True                 Papillon                     0.068957      \n",
       "1     True                 Kelpie                       0.031379      \n",
       "2     True                 German_Short-Haired_Pointer  0.175219      \n",
       "3     True                 Pembroke                     0.076507      \n",
       "4     True                 Chesapeake_Bay_Retriever     0.118184      \n",
       "...    ...                                      ...          ...      \n",
       "1164  True                 Doberman                     0.154629      \n",
       "1165  True                 Miniature_Pinscher           0.222752      \n",
       "1166  True                 Bloodhound                   0.116197      \n",
       "1167  True                 Rhodesian_Ridgeback          0.072010      \n",
       "1168  True                 Shetland_Sheepdog            0.061428      \n",
       "\n",
       "      confidence_result_3  retweet_count favorite_count  \n",
       "0     True                 6514           33819          \n",
       "1     True                 4328           25461          \n",
       "2     True                 9774           41048          \n",
       "3     True                 16716          56848          \n",
       "4     True                 4429           28226          \n",
       "...    ...                  ...             ...          \n",
       "1164  True                 41             111            \n",
       "1165  True                 147            311            \n",
       "1166  True                 47             128            \n",
       "1167  True                 48             132            \n",
       "1168  True                 532            2535           \n",
       "\n",
       "[1169 rows x 24 columns]"
      ]
     },
     "execution_count": 42,
     "metadata": {},
     "output_type": "execute_result"
    }
   ],
   "source": [
    "pd.read_csv(\"twitter_archive_master.csv\")"
   ]
  },
  {
   "cell_type": "markdown",
   "metadata": {},
   "source": [
    "## Analyzing and Visualizing Data\n",
    "In this section, analyze and visualize your wrangled data. You must produce at least **three (3) insights and one (1) visualization.**"
   ]
  },
  {
   "cell_type": "markdown",
   "metadata": {},
   "source": [
    "### Visualization"
   ]
  },
  {
   "cell_type": "markdown",
   "metadata": {},
   "source": [
    "#### The most common tweet source'e name"
   ]
  },
  {
   "cell_type": "code",
   "execution_count": 43,
   "metadata": {},
   "outputs": [
    {
     "data": {
      "text/plain": [
       "Twitter for iPhone    1151\n",
       "Twitter Web Client    13  \n",
       "TweetDeck             5   \n",
       "Name: source, dtype: int64"
      ]
     },
     "execution_count": 43,
     "metadata": {},
     "output_type": "execute_result"
    }
   ],
   "source": [
    "common_source= we_rate_dogs_data['source'].value_counts()\n",
    "common_source"
   ]
  },
  {
   "cell_type": "code",
   "execution_count": 44,
   "metadata": {},
   "outputs": [
    {
     "data": {
      "image/png": "[encoded data removed]",
      "text/plain": [
       "<Figure size 432x288 with 1 Axes>"
      ]
     },
     "metadata": {
      "needs_background": "light"
     },
     "output_type": "display_data"
    }
   ],
   "source": [
    "common_source. plot.bar(color = 'orange', fontsize = 13)\n",
    "plt.title('Most common Twitter source', color = 'black')\n",
    "plt.xlabel('Source Name', color = 'black')\n",
    "plt.ylabel('Tweet counts', color = 'black', fontsize = '13');\n",
    "plt.show()"
   ]
  },
  {
   "cell_type": "markdown",
   "metadata": {},
   "source": [
    "#### Common Dog's name"
   ]
  },
  {
   "cell_type": "code",
   "execution_count": 45,
   "metadata": {},
   "outputs": [
    {
     "data": {
      "text/plain": [
       "Cooper     9\n",
       "Charlie    8\n",
       "Oliver     7\n",
       "Sadie      6\n",
       "Koda       6\n",
       "          ..\n",
       "Stormy     1\n",
       "Frankie    1\n",
       "Dallas     1\n",
       "Mattie     1\n",
       "Walter     1\n",
       "Name: name, Length: 617, dtype: int64"
      ]
     },
     "execution_count": 45,
     "metadata": {},
     "output_type": "execute_result"
    }
   ],
   "source": [
    "Common_dog_name= we_rate_dogs_data.name.value_counts()[1:]\n",
    "Common_dog_name"
   ]
  },
  {
   "cell_type": "markdown",
   "metadata": {},
   "source": [
    "#### Most popular dog's stages"
   ]
  },
  {
   "cell_type": "code",
   "execution_count": 46,
   "metadata": {},
   "outputs": [
    {
     "data": {
      "text/plain": [
       "   pupper          117\n",
       "doggo              37 \n",
       "  puppo            18 \n",
       " floofer           6  \n",
       "doggo   pupper     5  \n",
       "doggo  puppo       1  \n",
       "doggo floofer      1  \n",
       "Name: breed, dtype: int64"
      ]
     },
     "execution_count": 46,
     "metadata": {},
     "output_type": "execute_result"
    }
   ],
   "source": [
    "Common_dog_stage= we_rate_dogs_data.breed.value_counts()[1:]\n",
    "Common_dog_stage"
   ]
  },
  {
   "cell_type": "markdown",
   "metadata": {},
   "source": [
    "### Insights:\n",
    "1.The most common source of tweet is posted from the iphone users\n",
    "\n",
    "2.The three most popular/common dog's names are: Cooper, Charlie and Oliver\n",
    "\n",
    "3.The most common stage is pupper,doggo,puppo respectively"
   ]
  },
  {
   "cell_type": "markdown",
   "metadata": {
    "collapsed": true
   },
   "source": []
  },
  {
   "cell_type": "code",
   "execution_count": 47,
   "metadata": {},
   "outputs": [
    {
     "data": {
      "text/html": [
       "<div>\n",
       "<style scoped>\n",
       "    .dataframe tbody tr th:only-of-type {\n",
       "        vertical-align: middle;\n",
       "    }\n",
       "\n",
       "    .dataframe tbody tr th {\n",
       "        vertical-align: top;\n",
       "    }\n",
       "\n",
       "    .dataframe thead th {\n",
       "        text-align: right;\n",
       "    }\n",
       "</style>\n",
       "<table border=\"1\" class=\"dataframe\">\n",
       "  <thead>\n",
       "    <tr style=\"text-align: right;\">\n",
       "      <th></th>\n",
       "      <th>tweet_id</th>\n",
       "      <th>source</th>\n",
       "      <th>text</th>\n",
       "      <th>rating_numerator</th>\n",
       "      <th>rating_denominator</th>\n",
       "      <th>name</th>\n",
       "      <th>year</th>\n",
       "      <th>time</th>\n",
       "      <th>month</th>\n",
       "      <th>day</th>\n",
       "      <th>...</th>\n",
       "      <th>confidence_1</th>\n",
       "      <th>confidence_result_1</th>\n",
       "      <th>prediction_2</th>\n",
       "      <th>confidence_2</th>\n",
       "      <th>confidence_result_2</th>\n",
       "      <th>prediction_3</th>\n",
       "      <th>confidence_3</th>\n",
       "      <th>confidence_result_3</th>\n",
       "      <th>retweet_count</th>\n",
       "      <th>favorite_count</th>\n",
       "    </tr>\n",
       "  </thead>\n",
       "  <tbody>\n",
       "    <tr>\n",
       "      <th>0</th>\n",
       "      <td>892177421306343426</td>\n",
       "      <td>Twitter for iPhone</td>\n",
       "      <td>This is Tilly. She's just checking pup on you. Hopes you're doing ok. If not, she's available for pats, snugs, boops, the whole bit.</td>\n",
       "      <td>13</td>\n",
       "      <td>10</td>\n",
       "      <td>Tilly</td>\n",
       "      <td>2017</td>\n",
       "      <td>00:17:27</td>\n",
       "      <td>8</td>\n",
       "      <td>1</td>\n",
       "      <td>...</td>\n",
       "      <td>0.323581</td>\n",
       "      <td>True</td>\n",
       "      <td>Pekinese</td>\n",
       "      <td>0.090647</td>\n",
       "      <td>True</td>\n",
       "      <td>Papillon</td>\n",
       "      <td>0.068957</td>\n",
       "      <td>True</td>\n",
       "      <td>6514</td>\n",
       "      <td>33819</td>\n",
       "    </tr>\n",
       "    <tr>\n",
       "      <th>1</th>\n",
       "      <td>891815181378084864</td>\n",
       "      <td>Twitter for iPhone</td>\n",
       "      <td>This is Archie. He is a rare Norwegian Pouncing Corgo. Lives in the tall grass. You never know when one may strike.</td>\n",
       "      <td>12</td>\n",
       "      <td>10</td>\n",
       "      <td>Archie</td>\n",
       "      <td>2017</td>\n",
       "      <td>00:18:03</td>\n",
       "      <td>7</td>\n",
       "      <td>31</td>\n",
       "      <td>...</td>\n",
       "      <td>0.716012</td>\n",
       "      <td>True</td>\n",
       "      <td>Malamute</td>\n",
       "      <td>0.078253</td>\n",
       "      <td>True</td>\n",
       "      <td>Kelpie</td>\n",
       "      <td>0.031379</td>\n",
       "      <td>True</td>\n",
       "      <td>4328</td>\n",
       "      <td>25461</td>\n",
       "    </tr>\n",
       "    <tr>\n",
       "      <th>2</th>\n",
       "      <td>891327558926688256</td>\n",
       "      <td>Twitter for iPhone</td>\n",
       "      <td>This is Franklin. He would like you to stop calling him \"cute.\" He is a very fierce shark and should be respected as such.</td>\n",
       "      <td>12</td>\n",
       "      <td>10</td>\n",
       "      <td>Franklin</td>\n",
       "      <td>2017</td>\n",
       "      <td>16:00:24</td>\n",
       "      <td>7</td>\n",
       "      <td>29</td>\n",
       "      <td>...</td>\n",
       "      <td>0.555712</td>\n",
       "      <td>True</td>\n",
       "      <td>English_Springer</td>\n",
       "      <td>0.225770</td>\n",
       "      <td>True</td>\n",
       "      <td>German_Short-Haired_Pointer</td>\n",
       "      <td>0.175219</td>\n",
       "      <td>True</td>\n",
       "      <td>9774</td>\n",
       "      <td>41048</td>\n",
       "    </tr>\n",
       "    <tr>\n",
       "      <th>3</th>\n",
       "      <td>890729181411237888</td>\n",
       "      <td>Twitter for iPhone</td>\n",
       "      <td>When you watch your owner call another dog a good boy but then they turn back to you and say you're a great boy.</td>\n",
       "      <td>13</td>\n",
       "      <td>10</td>\n",
       "      <td></td>\n",
       "      <td>2017</td>\n",
       "      <td>00:22:40</td>\n",
       "      <td>7</td>\n",
       "      <td>28</td>\n",
       "      <td>...</td>\n",
       "      <td>0.566142</td>\n",
       "      <td>True</td>\n",
       "      <td>Eskimo_Dog</td>\n",
       "      <td>0.178406</td>\n",
       "      <td>True</td>\n",
       "      <td>Pembroke</td>\n",
       "      <td>0.076507</td>\n",
       "      <td>True</td>\n",
       "      <td>16716</td>\n",
       "      <td>56848</td>\n",
       "    </tr>\n",
       "    <tr>\n",
       "      <th>4</th>\n",
       "      <td>890609185150312448</td>\n",
       "      <td>Twitter for iPhone</td>\n",
       "      <td>This is Zoey. She doesn't want to be one of the scary sharks. Just wants to be a snuggly pettable boatpet.</td>\n",
       "      <td>13</td>\n",
       "      <td>10</td>\n",
       "      <td>Zoey</td>\n",
       "      <td>2017</td>\n",
       "      <td>16:25:51</td>\n",
       "      <td>7</td>\n",
       "      <td>27</td>\n",
       "      <td>...</td>\n",
       "      <td>0.487574</td>\n",
       "      <td>True</td>\n",
       "      <td>Irish_Setter</td>\n",
       "      <td>0.193054</td>\n",
       "      <td>True</td>\n",
       "      <td>Chesapeake_Bay_Retriever</td>\n",
       "      <td>0.118184</td>\n",
       "      <td>True</td>\n",
       "      <td>4429</td>\n",
       "      <td>28226</td>\n",
       "    </tr>\n",
       "    <tr>\n",
       "      <th>...</th>\n",
       "      <td>...</td>\n",
       "      <td>...</td>\n",
       "      <td>...</td>\n",
       "      <td>...</td>\n",
       "      <td>...</td>\n",
       "      <td>...</td>\n",
       "      <td>...</td>\n",
       "      <td>...</td>\n",
       "      <td>...</td>\n",
       "      <td>...</td>\n",
       "      <td>...</td>\n",
       "      <td>...</td>\n",
       "      <td>...</td>\n",
       "      <td>...</td>\n",
       "      <td>...</td>\n",
       "      <td>...</td>\n",
       "      <td>...</td>\n",
       "      <td>...</td>\n",
       "      <td>...</td>\n",
       "      <td>...</td>\n",
       "      <td>...</td>\n",
       "    </tr>\n",
       "    <tr>\n",
       "      <th>1164</th>\n",
       "      <td>666049248165822465</td>\n",
       "      <td>Twitter for iPhone</td>\n",
       "      <td>Here we have a 1949 1st generation vulpix. Enjoys sweat tea and Fox News. Cannot be phased.</td>\n",
       "      <td>5</td>\n",
       "      <td>10</td>\n",
       "      <td></td>\n",
       "      <td>2015</td>\n",
       "      <td>00:24:50</td>\n",
       "      <td>11</td>\n",
       "      <td>16</td>\n",
       "      <td>...</td>\n",
       "      <td>0.560311</td>\n",
       "      <td>True</td>\n",
       "      <td>Rottweiler</td>\n",
       "      <td>0.243682</td>\n",
       "      <td>True</td>\n",
       "      <td>Doberman</td>\n",
       "      <td>0.154629</td>\n",
       "      <td>True</td>\n",
       "      <td>41</td>\n",
       "      <td>111</td>\n",
       "    </tr>\n",
       "    <tr>\n",
       "      <th>1165</th>\n",
       "      <td>666044226329800704</td>\n",
       "      <td>Twitter for iPhone</td>\n",
       "      <td>This is a purebred Piers Morgan. Loves to Netflix and chill. Always looks like he forgot to unplug the iron.</td>\n",
       "      <td>6</td>\n",
       "      <td>10</td>\n",
       "      <td></td>\n",
       "      <td>2015</td>\n",
       "      <td>00:04:52</td>\n",
       "      <td>11</td>\n",
       "      <td>16</td>\n",
       "      <td>...</td>\n",
       "      <td>0.408143</td>\n",
       "      <td>True</td>\n",
       "      <td>Redbone</td>\n",
       "      <td>0.360687</td>\n",
       "      <td>True</td>\n",
       "      <td>Miniature_Pinscher</td>\n",
       "      <td>0.222752</td>\n",
       "      <td>True</td>\n",
       "      <td>147</td>\n",
       "      <td>311</td>\n",
       "    </tr>\n",
       "    <tr>\n",
       "      <th>1166</th>\n",
       "      <td>666033412701032449</td>\n",
       "      <td>Twitter for iPhone</td>\n",
       "      <td>Here is a very happy pup. Big fan of well-maintained decks. Just look at that tongue.</td>\n",
       "      <td>9</td>\n",
       "      <td>10</td>\n",
       "      <td></td>\n",
       "      <td>2015</td>\n",
       "      <td>23:21:54</td>\n",
       "      <td>11</td>\n",
       "      <td>15</td>\n",
       "      <td>...</td>\n",
       "      <td>0.596461</td>\n",
       "      <td>True</td>\n",
       "      <td>Malinois</td>\n",
       "      <td>0.138584</td>\n",
       "      <td>True</td>\n",
       "      <td>Bloodhound</td>\n",
       "      <td>0.116197</td>\n",
       "      <td>True</td>\n",
       "      <td>47</td>\n",
       "      <td>128</td>\n",
       "    </tr>\n",
       "    <tr>\n",
       "      <th>1167</th>\n",
       "      <td>666029285002620928</td>\n",
       "      <td>Twitter for iPhone</td>\n",
       "      <td>This is a western brown Mitsubishi terrier. Upset about leaf. Actually 2 dogs here.</td>\n",
       "      <td>7</td>\n",
       "      <td>10</td>\n",
       "      <td></td>\n",
       "      <td>2015</td>\n",
       "      <td>23:05:30</td>\n",
       "      <td>11</td>\n",
       "      <td>15</td>\n",
       "      <td>...</td>\n",
       "      <td>0.506826</td>\n",
       "      <td>True</td>\n",
       "      <td>Miniature_Pinscher</td>\n",
       "      <td>0.074192</td>\n",
       "      <td>True</td>\n",
       "      <td>Rhodesian_Ridgeback</td>\n",
       "      <td>0.072010</td>\n",
       "      <td>True</td>\n",
       "      <td>48</td>\n",
       "      <td>132</td>\n",
       "    </tr>\n",
       "    <tr>\n",
       "      <th>1168</th>\n",
       "      <td>666020888022790149</td>\n",
       "      <td>Twitter for iPhone</td>\n",
       "      <td>Here we have a Japanese Irish Setter. Lost eye in Vietnam (?). Big fan of relaxing on stair.</td>\n",
       "      <td>8</td>\n",
       "      <td>10</td>\n",
       "      <td></td>\n",
       "      <td>2015</td>\n",
       "      <td>22:32:08</td>\n",
       "      <td>11</td>\n",
       "      <td>15</td>\n",
       "      <td>...</td>\n",
       "      <td>0.465074</td>\n",
       "      <td>True</td>\n",
       "      <td>Collie</td>\n",
       "      <td>0.156665</td>\n",
       "      <td>True</td>\n",
       "      <td>Shetland_Sheepdog</td>\n",
       "      <td>0.061428</td>\n",
       "      <td>True</td>\n",
       "      <td>532</td>\n",
       "      <td>2535</td>\n",
       "    </tr>\n",
       "  </tbody>\n",
       "</table>\n",
       "<p>1169 rows × 23 columns</p>\n",
       "</div>"
      ],
      "text/plain": [
       "                tweet_id              source  \\\n",
       "0     892177421306343426  Twitter for iPhone   \n",
       "1     891815181378084864  Twitter for iPhone   \n",
       "2     891327558926688256  Twitter for iPhone   \n",
       "3     890729181411237888  Twitter for iPhone   \n",
       "4     890609185150312448  Twitter for iPhone   \n",
       "...                  ...                 ...   \n",
       "1164  666049248165822465  Twitter for iPhone   \n",
       "1165  666044226329800704  Twitter for iPhone   \n",
       "1166  666033412701032449  Twitter for iPhone   \n",
       "1167  666029285002620928  Twitter for iPhone   \n",
       "1168  666020888022790149  Twitter for iPhone   \n",
       "\n",
       "                                                                                                                                       text  \\\n",
       "0     This is Tilly. She's just checking pup on you. Hopes you're doing ok. If not, she's available for pats, snugs, boops, the whole bit.    \n",
       "1     This is Archie. He is a rare Norwegian Pouncing Corgo. Lives in the tall grass. You never know when one may strike.                     \n",
       "2     This is Franklin. He would like you to stop calling him \"cute.\" He is a very fierce shark and should be respected as such.              \n",
       "3     When you watch your owner call another dog a good boy but then they turn back to you and say you're a great boy.                        \n",
       "4     This is Zoey. She doesn't want to be one of the scary sharks. Just wants to be a snuggly pettable boatpet.                              \n",
       "...                                                                                                           ...                             \n",
       "1164  Here we have a 1949 1st generation vulpix. Enjoys sweat tea and Fox News. Cannot be phased.                                             \n",
       "1165  This is a purebred Piers Morgan. Loves to Netflix and chill. Always looks like he forgot to unplug the iron.                            \n",
       "1166  Here is a very happy pup. Big fan of well-maintained decks. Just look at that tongue.                                                   \n",
       "1167  This is a western brown Mitsubishi terrier. Upset about leaf. Actually 2 dogs here.                                                     \n",
       "1168  Here we have a Japanese Irish Setter. Lost eye in Vietnam (?). Big fan of relaxing on stair.                                            \n",
       "\n",
       "      rating_numerator  rating_denominator      name  year      time  month  \\\n",
       "0     13                10                  Tilly     2017  00:17:27  8       \n",
       "1     12                10                  Archie    2017  00:18:03  7       \n",
       "2     12                10                  Franklin  2017  16:00:24  7       \n",
       "3     13                10                            2017  00:22:40  7       \n",
       "4     13                10                  Zoey      2017  16:25:51  7       \n",
       "...   ..                ..                   ...       ...       ... ..       \n",
       "1164  5                 10                            2015  00:24:50  11      \n",
       "1165  6                 10                            2015  00:04:52  11      \n",
       "1166  9                 10                            2015  23:21:54  11      \n",
       "1167  7                 10                            2015  23:05:30  11      \n",
       "1168  8                 10                            2015  22:32:08  11      \n",
       "\n",
       "      day  ... confidence_1 confidence_result_1        prediction_2  \\\n",
       "0     1    ...  0.323581     True                Pekinese             \n",
       "1     31   ...  0.716012     True                Malamute             \n",
       "2     29   ...  0.555712     True                English_Springer     \n",
       "3     28   ...  0.566142     True                Eskimo_Dog           \n",
       "4     27   ...  0.487574     True                Irish_Setter         \n",
       "...   ..   ...       ...      ...                         ...         \n",
       "1164  16   ...  0.560311     True                Rottweiler           \n",
       "1165  16   ...  0.408143     True                Redbone              \n",
       "1166  15   ...  0.596461     True                Malinois             \n",
       "1167  15   ...  0.506826     True                Miniature_Pinscher   \n",
       "1168  15   ...  0.465074     True                Collie               \n",
       "\n",
       "      confidence_2  confidence_result_2                 prediction_3  \\\n",
       "0     0.090647      True                 Papillon                      \n",
       "1     0.078253      True                 Kelpie                        \n",
       "2     0.225770      True                 German_Short-Haired_Pointer   \n",
       "3     0.178406      True                 Pembroke                      \n",
       "4     0.193054      True                 Chesapeake_Bay_Retriever      \n",
       "...        ...       ...                                      ...      \n",
       "1164  0.243682      True                 Doberman                      \n",
       "1165  0.360687      True                 Miniature_Pinscher            \n",
       "1166  0.138584      True                 Bloodhound                    \n",
       "1167  0.074192      True                 Rhodesian_Ridgeback           \n",
       "1168  0.156665      True                 Shetland_Sheepdog             \n",
       "\n",
       "      confidence_3  confidence_result_3 retweet_count  favorite_count  \n",
       "0     0.068957      True                 6514          33819           \n",
       "1     0.031379      True                 4328          25461           \n",
       "2     0.175219      True                 9774          41048           \n",
       "3     0.076507      True                 16716         56848           \n",
       "4     0.118184      True                 4429          28226           \n",
       "...        ...       ...                  ...            ...           \n",
       "1164  0.154629      True                 41            111             \n",
       "1165  0.222752      True                 147           311             \n",
       "1166  0.116197      True                 47            128             \n",
       "1167  0.072010      True                 48            132             \n",
       "1168  0.061428      True                 532           2535            \n",
       "\n",
       "[1169 rows x 23 columns]"
      ]
     },
     "execution_count": 47,
     "metadata": {},
     "output_type": "execute_result"
    }
   ],
   "source": []
  },
  {
   "cell_type": "code",
   "execution_count": 79,
   "metadata": {},
   "outputs": [
    {
     "data": {
      "text/plain": [
       "Golden_Retriever       112\n",
       "Pembroke               76 \n",
       "Labrador_Retriever     73 \n",
       "Chihuahua              46 \n",
       "Pug                    39 \n",
       "                       .. \n",
       "Scotch_Terrier         1  \n",
       "Groenendael            1  \n",
       "Clumber                1  \n",
       "Irish_Water_Spaniel    1  \n",
       "Silky_Terrier          1  \n",
       "Name: prediction_1, Length: 110, dtype: int64"
      ]
     },
     "execution_count": 79,
     "metadata": {},
     "output_type": "execute_result"
    }
   ],
   "source": [
    "(we_rate_dogs_data.prediction_1.value_counts())"
   ]
  },
  {
   "cell_type": "code",
   "execution_count": 80,
   "metadata": {},
   "outputs": [
    {
     "data": {
      "text/plain": [
       "Labrador_Retriever    66\n",
       "Cardigan              62\n",
       "Golden_Retriever      52\n",
       "French_Bulldog        31\n",
       "Chihuahua             31\n",
       "                      ..\n",
       "Dalmatian             1 \n",
       "Briard                1 \n",
       "Affenpinscher         1 \n",
       "Mexican_Hairless      1 \n",
       "Komondor              1 \n",
       "Name: prediction_2, Length: 112, dtype: int64"
      ]
     },
     "execution_count": 80,
     "metadata": {},
     "output_type": "execute_result"
    }
   ],
   "source": [
    "(we_rate_dogs_data.prediction_2.value_counts())"
   ]
  },
  {
   "cell_type": "code",
   "execution_count": 81,
   "metadata": {},
   "outputs": [
    {
     "data": {
      "text/plain": [
       "Labrador_Retriever      60\n",
       "Chihuahua               47\n",
       "Golden_Retriever        32\n",
       "Eskimo_Dog              30\n",
       "Pekinese                27\n",
       "                        ..\n",
       "Kerry_Blue_Terrier      1 \n",
       "Standard_Schnauzer      1 \n",
       "Sussex_Spaniel          1 \n",
       "Komondor                1 \n",
       "Bouvier_Des_Flandres    1 \n",
       "Name: prediction_3, Length: 116, dtype: int64"
      ]
     },
     "execution_count": 81,
     "metadata": {},
     "output_type": "execute_result"
    }
   ],
   "source": [
    "(we_rate_dogs_data.prediction_3.value_counts())\n"
   ]
  },
  {
   "cell_type": "markdown",
   "metadata": {},
   "source": [
    "#### The most common predicted dog in the first prediction"
   ]
  },
  {
   "cell_type": "code",
   "execution_count": 89,
   "metadata": {
    "scrolled": true
   },
   "outputs": [
    {
     "data": {
      "text/plain": [
       "[Text(0.5, 1.0, \"most common predicted dog's breed\")]"
      ]
     },
     "execution_count": 89,
     "metadata": {},
     "output_type": "execute_result"
    },
    {
     "data": {
      "image/png": "[encoded data removed]",
      "text/plain": [
       "<Figure size 432x288 with 1 Axes>"
      ]
     },
     "metadata": {
      "needs_background": "light"
     },
     "output_type": "display_data"
    }
   ],
   "source": [
    "sb.countplot(data=we_rate_dogs_data, y='prediction_1', order=we_rate_dogs_data.prediction_1.value_counts().index[0:15]).set(title=\"most common predicted dog's breed\")"
   ]
  },
  {
   "cell_type": "code",
   "execution_count": 118,
   "metadata": {},
   "outputs": [
    {
     "name": "stdout",
     "output_type": "stream",
     "text": [
      "<class 'pandas.core.frame.DataFrame'>\n",
      "Int64Index: 1169 entries, 0 to 1168\n",
      "Data columns (total 23 columns):\n",
      " #   Column               Non-Null Count  Dtype  \n",
      "---  ------               --------------  -----  \n",
      " 0   tweet_id             1169 non-null   int64  \n",
      " 1   source               1169 non-null   object \n",
      " 2   text                 1169 non-null   object \n",
      " 3   rating_numerator     1169 non-null   int64  \n",
      " 4   rating_denominator   1169 non-null   int64  \n",
      " 5   name                 1169 non-null   object \n",
      " 6   year                 1169 non-null   object \n",
      " 7   time                 1169 non-null   object \n",
      " 8   month                1169 non-null   int64  \n",
      " 9   day                  1169 non-null   int64  \n",
      " 10  breed                1169 non-null   object \n",
      " 11  jpg_url              1169 non-null   object \n",
      " 12  prediction_1         1169 non-null   object \n",
      " 13  confidence_1         1169 non-null   float64\n",
      " 14  confidence_result_1  1169 non-null   bool   \n",
      " 15  prediction_2         1169 non-null   object \n",
      " 16  confidence_2         1169 non-null   float64\n",
      " 17  confidence_result_2  1169 non-null   bool   \n",
      " 18  prediction_3         1169 non-null   object \n",
      " 19  confidence_3         1169 non-null   float64\n",
      " 20  confidence_result_3  1169 non-null   bool   \n",
      " 21  retweet_count        1169 non-null   int64  \n",
      " 22  favorite_count       1169 non-null   int64  \n",
      "dtypes: bool(3), float64(3), int64(7), object(10)\n",
      "memory usage: 227.5+ KB\n"
     ]
    }
   ],
   "source": [
    "we_rate_dogs_data['year']= we_rate_dogs_data['year'].astype(str)\n",
    "we_rate_dogs_data.info()"
   ]
  },
  {
   "cell_type": "code",
   "execution_count": null,
   "metadata": {},
   "outputs": [],
   "source": []
  }
 ],
 "metadata": {
  "extensions": {
   "jupyter_dashboards": {
    "activeView": "report_default",
    "version": 1,
    "views": {
     "grid_default": {
      "cellMargin": 10,
      "defaultCellHeight": 20,
      "maxColumns": 12,
      "name": "grid",
      "type": "grid"
     },
     "report_default": {
      "name": "report",
      "type": "report"
     }
    }
   }
  },
  "kernelspec": {
   "display_name": "Python 3 (ipykernel)",
   "language": "python",
   "name": "python3"
  },
  "language_info": {
   "codemirror_mode": {
    "name": "ipython",
    "version": 3
   },
   "file_extension": ".py",
   "mimetype": "text/x-python",
   "name": "python",
   "nbconvert_exporter": "python",
   "pygments_lexer": "ipython3",
   "version": "3.9.7"
  }
 },
 "nbformat": 4,
 "nbformat_minor": 2
}
